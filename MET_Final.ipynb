{
 "cells": [
  {
   "cell_type": "markdown",
   "metadata": {},
   "source": [
    "# MET Dataset Analysis"
   ]
  },
  {
   "cell_type": "markdown",
   "metadata": {},
   "source": [
    "### 1. Loading library, dataset, and some EDA"
   ]
  },
  {
   "cell_type": "code",
   "execution_count": 491,
   "metadata": {},
   "outputs": [],
   "source": [
    "import pandas as pd\n",
    "import numpy as np\n",
    "\n",
    "import matplotlib.pyplot as plt \n",
    "import matplotlib.image as mpimg\n",
    "\n",
    "import warnings\n",
    "warnings.filterwarnings(\"ignore\")\n",
    "\n",
    "import seaborn as sns\n",
    "\n",
    "import matplotlib.style as style\n",
    "\n",
    "%matplotlib inline"
   ]
  },
  {
   "cell_type": "code",
   "execution_count": 492,
   "metadata": {},
   "outputs": [],
   "source": [
    "met = pd.read_csv('MET.csv')"
   ]
  },
  {
   "cell_type": "code",
   "execution_count": 493,
   "metadata": {},
   "outputs": [
    {
     "data": {
      "text/html": [
       "<div>\n",
       "<style scoped>\n",
       "    .dataframe tbody tr th:only-of-type {\n",
       "        vertical-align: middle;\n",
       "    }\n",
       "\n",
       "    .dataframe tbody tr th {\n",
       "        vertical-align: top;\n",
       "    }\n",
       "\n",
       "    .dataframe thead th {\n",
       "        text-align: right;\n",
       "    }\n",
       "</style>\n",
       "<table border=\"1\" class=\"dataframe\">\n",
       "  <thead>\n",
       "    <tr style=\"text-align: right;\">\n",
       "      <th></th>\n",
       "      <th>Object Number</th>\n",
       "      <th>Is Highlight</th>\n",
       "      <th>Is Public Domain</th>\n",
       "      <th>Is Timeline Work</th>\n",
       "      <th>Object ID</th>\n",
       "      <th>Department</th>\n",
       "      <th>AccessionYear</th>\n",
       "      <th>Object Name</th>\n",
       "      <th>Title</th>\n",
       "      <th>Culture</th>\n",
       "      <th>...</th>\n",
       "      <th>Excavation</th>\n",
       "      <th>River</th>\n",
       "      <th>Classification</th>\n",
       "      <th>Rights and Reproduction</th>\n",
       "      <th>Link Resource</th>\n",
       "      <th>Object Wikidata URL</th>\n",
       "      <th>Metadata Date</th>\n",
       "      <th>Repository</th>\n",
       "      <th>Tags</th>\n",
       "      <th>Tags AAT URL</th>\n",
       "    </tr>\n",
       "  </thead>\n",
       "  <tbody>\n",
       "    <tr>\n",
       "      <th>0</th>\n",
       "      <td>1979.486.1</td>\n",
       "      <td>False</td>\n",
       "      <td>False</td>\n",
       "      <td>False</td>\n",
       "      <td>1</td>\n",
       "      <td>The American Wing</td>\n",
       "      <td>1979</td>\n",
       "      <td>Coin</td>\n",
       "      <td>One-dollar Liberty Head Coin</td>\n",
       "      <td>NaN</td>\n",
       "      <td>...</td>\n",
       "      <td>NaN</td>\n",
       "      <td>NaN</td>\n",
       "      <td>Metal</td>\n",
       "      <td>NaN</td>\n",
       "      <td>http://www.metmuseum.org/art/collection/search/1</td>\n",
       "      <td>NaN</td>\n",
       "      <td>NaN</td>\n",
       "      <td>Metropolitan Museum of Art, New York, NY</td>\n",
       "      <td>NaN</td>\n",
       "      <td>NaN</td>\n",
       "    </tr>\n",
       "    <tr>\n",
       "      <th>1</th>\n",
       "      <td>1980.264.5</td>\n",
       "      <td>False</td>\n",
       "      <td>False</td>\n",
       "      <td>False</td>\n",
       "      <td>2</td>\n",
       "      <td>The American Wing</td>\n",
       "      <td>1980</td>\n",
       "      <td>Coin</td>\n",
       "      <td>Ten-dollar Liberty Head Coin</td>\n",
       "      <td>NaN</td>\n",
       "      <td>...</td>\n",
       "      <td>NaN</td>\n",
       "      <td>NaN</td>\n",
       "      <td>Metal</td>\n",
       "      <td>NaN</td>\n",
       "      <td>http://www.metmuseum.org/art/collection/search/2</td>\n",
       "      <td>NaN</td>\n",
       "      <td>NaN</td>\n",
       "      <td>Metropolitan Museum of Art, New York, NY</td>\n",
       "      <td>NaN</td>\n",
       "      <td>NaN</td>\n",
       "    </tr>\n",
       "    <tr>\n",
       "      <th>2</th>\n",
       "      <td>67.265.9</td>\n",
       "      <td>False</td>\n",
       "      <td>False</td>\n",
       "      <td>False</td>\n",
       "      <td>3</td>\n",
       "      <td>The American Wing</td>\n",
       "      <td>1967</td>\n",
       "      <td>Coin</td>\n",
       "      <td>Two-and-a-Half Dollar Coin</td>\n",
       "      <td>NaN</td>\n",
       "      <td>...</td>\n",
       "      <td>NaN</td>\n",
       "      <td>NaN</td>\n",
       "      <td>Metal</td>\n",
       "      <td>NaN</td>\n",
       "      <td>http://www.metmuseum.org/art/collection/search/3</td>\n",
       "      <td>NaN</td>\n",
       "      <td>NaN</td>\n",
       "      <td>Metropolitan Museum of Art, New York, NY</td>\n",
       "      <td>NaN</td>\n",
       "      <td>NaN</td>\n",
       "    </tr>\n",
       "    <tr>\n",
       "      <th>3</th>\n",
       "      <td>67.265.10</td>\n",
       "      <td>False</td>\n",
       "      <td>False</td>\n",
       "      <td>False</td>\n",
       "      <td>4</td>\n",
       "      <td>The American Wing</td>\n",
       "      <td>1967</td>\n",
       "      <td>Coin</td>\n",
       "      <td>Two-and-a-Half Dollar Coin</td>\n",
       "      <td>NaN</td>\n",
       "      <td>...</td>\n",
       "      <td>NaN</td>\n",
       "      <td>NaN</td>\n",
       "      <td>Metal</td>\n",
       "      <td>NaN</td>\n",
       "      <td>http://www.metmuseum.org/art/collection/search/4</td>\n",
       "      <td>NaN</td>\n",
       "      <td>NaN</td>\n",
       "      <td>Metropolitan Museum of Art, New York, NY</td>\n",
       "      <td>NaN</td>\n",
       "      <td>NaN</td>\n",
       "    </tr>\n",
       "    <tr>\n",
       "      <th>4</th>\n",
       "      <td>67.265.11</td>\n",
       "      <td>False</td>\n",
       "      <td>False</td>\n",
       "      <td>False</td>\n",
       "      <td>5</td>\n",
       "      <td>The American Wing</td>\n",
       "      <td>1967</td>\n",
       "      <td>Coin</td>\n",
       "      <td>Two-and-a-Half Dollar Coin</td>\n",
       "      <td>NaN</td>\n",
       "      <td>...</td>\n",
       "      <td>NaN</td>\n",
       "      <td>NaN</td>\n",
       "      <td>Metal</td>\n",
       "      <td>NaN</td>\n",
       "      <td>http://www.metmuseum.org/art/collection/search/5</td>\n",
       "      <td>NaN</td>\n",
       "      <td>NaN</td>\n",
       "      <td>Metropolitan Museum of Art, New York, NY</td>\n",
       "      <td>NaN</td>\n",
       "      <td>NaN</td>\n",
       "    </tr>\n",
       "  </tbody>\n",
       "</table>\n",
       "<p>5 rows × 51 columns</p>\n",
       "</div>"
      ],
      "text/plain": [
       "  Object Number  Is Highlight  Is Public Domain  Is Timeline Work  Object ID  \\\n",
       "0    1979.486.1         False             False             False          1   \n",
       "1    1980.264.5         False             False             False          2   \n",
       "2      67.265.9         False             False             False          3   \n",
       "3     67.265.10         False             False             False          4   \n",
       "4     67.265.11         False             False             False          5   \n",
       "\n",
       "          Department AccessionYear Object Name                         Title  \\\n",
       "0  The American Wing          1979        Coin  One-dollar Liberty Head Coin   \n",
       "1  The American Wing          1980        Coin  Ten-dollar Liberty Head Coin   \n",
       "2  The American Wing          1967        Coin    Two-and-a-Half Dollar Coin   \n",
       "3  The American Wing          1967        Coin    Two-and-a-Half Dollar Coin   \n",
       "4  The American Wing          1967        Coin    Two-and-a-Half Dollar Coin   \n",
       "\n",
       "  Culture  ... Excavation River Classification Rights and Reproduction  \\\n",
       "0     NaN  ...        NaN   NaN          Metal                     NaN   \n",
       "1     NaN  ...        NaN   NaN          Metal                     NaN   \n",
       "2     NaN  ...        NaN   NaN          Metal                     NaN   \n",
       "3     NaN  ...        NaN   NaN          Metal                     NaN   \n",
       "4     NaN  ...        NaN   NaN          Metal                     NaN   \n",
       "\n",
       "                                      Link Resource Object Wikidata URL  \\\n",
       "0  http://www.metmuseum.org/art/collection/search/1                 NaN   \n",
       "1  http://www.metmuseum.org/art/collection/search/2                 NaN   \n",
       "2  http://www.metmuseum.org/art/collection/search/3                 NaN   \n",
       "3  http://www.metmuseum.org/art/collection/search/4                 NaN   \n",
       "4  http://www.metmuseum.org/art/collection/search/5                 NaN   \n",
       "\n",
       "  Metadata Date                                Repository Tags Tags AAT URL  \n",
       "0           NaN  Metropolitan Museum of Art, New York, NY  NaN          NaN  \n",
       "1           NaN  Metropolitan Museum of Art, New York, NY  NaN          NaN  \n",
       "2           NaN  Metropolitan Museum of Art, New York, NY  NaN          NaN  \n",
       "3           NaN  Metropolitan Museum of Art, New York, NY  NaN          NaN  \n",
       "4           NaN  Metropolitan Museum of Art, New York, NY  NaN          NaN  \n",
       "\n",
       "[5 rows x 51 columns]"
      ]
     },
     "execution_count": 493,
     "metadata": {},
     "output_type": "execute_result"
    }
   ],
   "source": [
    "met.head()"
   ]
  },
  {
   "cell_type": "code",
   "execution_count": 494,
   "metadata": {},
   "outputs": [
    {
     "data": {
      "text/plain": [
       "Index(['Object Number', 'Is Highlight', 'Is Public Domain', 'Is Timeline Work',\n",
       "       'Object ID', 'Department', 'AccessionYear', 'Object Name', 'Title',\n",
       "       'Culture', 'Period', 'Dynasty', 'Reign', 'Portfolio', 'Artist Role',\n",
       "       'Artist Prefix', 'Artist Display Name', 'Artist Display Bio',\n",
       "       'Artist Suffix', 'Artist Alpha Sort', 'Artist Nationality',\n",
       "       'Artist Begin Date', 'Artist End Date', 'Artist Gender',\n",
       "       'Artist ULAN URL', 'Artist Wikidata URL', 'Object Date',\n",
       "       'Object Begin Date', 'Object End Date', 'Medium', 'Dimensions',\n",
       "       'Credit Line', 'Geography Type', 'City', 'State', 'County', 'Country',\n",
       "       'Region', 'Subregion', 'Locale', 'Locus', 'Excavation', 'River',\n",
       "       'Classification', 'Rights and Reproduction', 'Link Resource',\n",
       "       'Object Wikidata URL', 'Metadata Date', 'Repository', 'Tags',\n",
       "       'Tags AAT URL'],\n",
       "      dtype='object')"
      ]
     },
     "execution_count": 494,
     "metadata": {},
     "output_type": "execute_result"
    }
   ],
   "source": [
    "met.columns"
   ]
  },
  {
   "cell_type": "code",
   "execution_count": 495,
   "metadata": {},
   "outputs": [
    {
     "data": {
      "text/plain": [
       "(474383, 51)"
      ]
     },
     "execution_count": 495,
     "metadata": {},
     "output_type": "execute_result"
    }
   ],
   "source": [
    "met.shape"
   ]
  },
  {
   "cell_type": "code",
   "execution_count": 496,
   "metadata": {},
   "outputs": [
    {
     "data": {
      "text/plain": [
       "Object Number               object\n",
       "Is Highlight                  bool\n",
       "Is Public Domain              bool\n",
       "Is Timeline Work              bool\n",
       "Object ID                    int64\n",
       "Department                  object\n",
       "AccessionYear               object\n",
       "Object Name                 object\n",
       "Title                       object\n",
       "Culture                     object\n",
       "Period                      object\n",
       "Dynasty                     object\n",
       "Reign                       object\n",
       "Portfolio                   object\n",
       "Artist Role                 object\n",
       "Artist Prefix               object\n",
       "Artist Display Name         object\n",
       "Artist Display Bio          object\n",
       "Artist Suffix               object\n",
       "Artist Alpha Sort           object\n",
       "Artist Nationality          object\n",
       "Artist Begin Date           object\n",
       "Artist End Date             object\n",
       "Artist Gender               object\n",
       "Artist ULAN URL             object\n",
       "Artist Wikidata URL         object\n",
       "Object Date                 object\n",
       "Object Begin Date            int64\n",
       "Object End Date              int64\n",
       "Medium                      object\n",
       "Dimensions                  object\n",
       "Credit Line                 object\n",
       "Geography Type              object\n",
       "City                        object\n",
       "State                       object\n",
       "County                      object\n",
       "Country                     object\n",
       "Region                      object\n",
       "Subregion                   object\n",
       "Locale                      object\n",
       "Locus                       object\n",
       "Excavation                  object\n",
       "River                       object\n",
       "Classification              object\n",
       "Rights and Reproduction     object\n",
       "Link Resource               object\n",
       "Object Wikidata URL         object\n",
       "Metadata Date              float64\n",
       "Repository                  object\n",
       "Tags                        object\n",
       "Tags AAT URL                object\n",
       "dtype: object"
      ]
     },
     "execution_count": 496,
     "metadata": {},
     "output_type": "execute_result"
    }
   ],
   "source": [
    "met.dtypes"
   ]
  },
  {
   "cell_type": "code",
   "execution_count": 497,
   "metadata": {},
   "outputs": [
    {
     "name": "stdout",
     "output_type": "stream",
     "text": [
      "Object Number                   0\n",
      "Is Highlight                    0\n",
      "Is Public Domain                0\n",
      "Is Timeline Work                0\n",
      "Object ID                       0\n",
      "Department                      0\n",
      "AccessionYear                4156\n",
      "Object Name                  1936\n",
      "Title                       29894\n",
      "Culture                    268151\n",
      "Period                     385000\n",
      "Dynasty                    451247\n",
      "Reign                      463207\n",
      "Portfolio                  451135\n",
      "Artist Role                204041\n",
      "Artist Prefix              385163\n",
      "Artist Display Name        201947\n",
      "Artist Display Bio         241101\n",
      "Artist Suffix              462431\n",
      "Artist Alpha Sort          201981\n",
      "Artist Nationality         291952\n",
      "Artist Begin Date          238471\n",
      "Artist End Date            238473\n",
      "Artist Gender              373500\n",
      "Artist ULAN URL            283449\n",
      "Artist Wikidata URL        336874\n",
      "Object Date                 14998\n",
      "Object Begin Date               0\n",
      "Object End Date                 0\n",
      "Medium                       7153\n",
      "Dimensions                  75485\n",
      "Credit Line                   417\n",
      "Geography Type             415205\n",
      "City                       442624\n",
      "State                      471855\n",
      "County                     466143\n",
      "Country                    399296\n",
      "Region                     443048\n",
      "Subregion                  452327\n",
      "Locale                     458773\n",
      "Locus                      466986\n",
      "Excavation                 458377\n",
      "River                      472287\n",
      "Classification              56034\n",
      "Rights and Reproduction    451383\n",
      "Link Resource                   0\n",
      "Object Wikidata URL        460195\n",
      "Metadata Date              474383\n",
      "Repository                      0\n",
      "Tags                       256056\n",
      "Tags AAT URL               256506\n",
      "dtype: int64\n"
     ]
    }
   ],
   "source": [
    "print(met.isnull().sum())"
   ]
  },
  {
   "cell_type": "markdown",
   "metadata": {},
   "source": [
    "#### 1.2. Removing columns that are unnecessary"
   ]
  },
  {
   "cell_type": "code",
   "execution_count": 498,
   "metadata": {},
   "outputs": [],
   "source": [
    "remove = ['Object Number', 'Artist Prefix', 'Portfolio', 'Artist Suffix', \n",
    "          'Artist ULAN URL', 'Artist Wikidata URL', 'Artist Alpha Sort', \n",
    "          'Geography Type', 'Excavation', 'River', \n",
    "          'Rights and Reproduction', 'Link Resource', 'Object Wikidata URL', \n",
    "          'Metadata Date', 'Tags AAT URL']\n",
    "met = met.drop(remove, axis=1)"
   ]
  },
  {
   "cell_type": "code",
   "execution_count": 499,
   "metadata": {
    "scrolled": true
   },
   "outputs": [
    {
     "data": {
      "text/html": [
       "<div>\n",
       "<style scoped>\n",
       "    .dataframe tbody tr th:only-of-type {\n",
       "        vertical-align: middle;\n",
       "    }\n",
       "\n",
       "    .dataframe tbody tr th {\n",
       "        vertical-align: top;\n",
       "    }\n",
       "\n",
       "    .dataframe thead th {\n",
       "        text-align: right;\n",
       "    }\n",
       "</style>\n",
       "<table border=\"1\" class=\"dataframe\">\n",
       "  <thead>\n",
       "    <tr style=\"text-align: right;\">\n",
       "      <th></th>\n",
       "      <th>Is Highlight</th>\n",
       "      <th>Is Public Domain</th>\n",
       "      <th>Is Timeline Work</th>\n",
       "      <th>Object ID</th>\n",
       "      <th>Department</th>\n",
       "      <th>AccessionYear</th>\n",
       "      <th>Object Name</th>\n",
       "      <th>Title</th>\n",
       "      <th>Culture</th>\n",
       "      <th>Artist Role</th>\n",
       "      <th>...</th>\n",
       "      <th>Artist Gender</th>\n",
       "      <th>Object Date</th>\n",
       "      <th>Object Begin Date</th>\n",
       "      <th>Object End Date</th>\n",
       "      <th>Medium</th>\n",
       "      <th>Dimensions</th>\n",
       "      <th>Credit Line</th>\n",
       "      <th>Classification</th>\n",
       "      <th>Repository</th>\n",
       "      <th>Tags</th>\n",
       "    </tr>\n",
       "  </thead>\n",
       "  <tbody>\n",
       "    <tr>\n",
       "      <th>0</th>\n",
       "      <td>False</td>\n",
       "      <td>False</td>\n",
       "      <td>False</td>\n",
       "      <td>1</td>\n",
       "      <td>The American Wing</td>\n",
       "      <td>1979</td>\n",
       "      <td>Coin</td>\n",
       "      <td>One-dollar Liberty Head Coin</td>\n",
       "      <td>NaN</td>\n",
       "      <td>Maker</td>\n",
       "      <td>...</td>\n",
       "      <td>NaN</td>\n",
       "      <td>1853</td>\n",
       "      <td>1853</td>\n",
       "      <td>1853</td>\n",
       "      <td>Gold</td>\n",
       "      <td>Dimensions unavailable</td>\n",
       "      <td>Gift of Heinz L. Stoppelmann, 1979</td>\n",
       "      <td>Metal</td>\n",
       "      <td>Metropolitan Museum of Art, New York, NY</td>\n",
       "      <td>NaN</td>\n",
       "    </tr>\n",
       "    <tr>\n",
       "      <th>1</th>\n",
       "      <td>False</td>\n",
       "      <td>False</td>\n",
       "      <td>False</td>\n",
       "      <td>2</td>\n",
       "      <td>The American Wing</td>\n",
       "      <td>1980</td>\n",
       "      <td>Coin</td>\n",
       "      <td>Ten-dollar Liberty Head Coin</td>\n",
       "      <td>NaN</td>\n",
       "      <td>Maker</td>\n",
       "      <td>...</td>\n",
       "      <td>NaN</td>\n",
       "      <td>1901</td>\n",
       "      <td>1901</td>\n",
       "      <td>1901</td>\n",
       "      <td>Gold</td>\n",
       "      <td>Dimensions unavailable</td>\n",
       "      <td>Gift of Heinz L. Stoppelmann, 1980</td>\n",
       "      <td>Metal</td>\n",
       "      <td>Metropolitan Museum of Art, New York, NY</td>\n",
       "      <td>NaN</td>\n",
       "    </tr>\n",
       "    <tr>\n",
       "      <th>2</th>\n",
       "      <td>False</td>\n",
       "      <td>False</td>\n",
       "      <td>False</td>\n",
       "      <td>3</td>\n",
       "      <td>The American Wing</td>\n",
       "      <td>1967</td>\n",
       "      <td>Coin</td>\n",
       "      <td>Two-and-a-Half Dollar Coin</td>\n",
       "      <td>NaN</td>\n",
       "      <td>NaN</td>\n",
       "      <td>...</td>\n",
       "      <td>NaN</td>\n",
       "      <td>1909–27</td>\n",
       "      <td>1909</td>\n",
       "      <td>1927</td>\n",
       "      <td>Gold</td>\n",
       "      <td>Diam. 11/16 in. (1.7 cm)</td>\n",
       "      <td>Gift of C. Ruxton Love Jr., 1967</td>\n",
       "      <td>Metal</td>\n",
       "      <td>Metropolitan Museum of Art, New York, NY</td>\n",
       "      <td>NaN</td>\n",
       "    </tr>\n",
       "    <tr>\n",
       "      <th>3</th>\n",
       "      <td>False</td>\n",
       "      <td>False</td>\n",
       "      <td>False</td>\n",
       "      <td>4</td>\n",
       "      <td>The American Wing</td>\n",
       "      <td>1967</td>\n",
       "      <td>Coin</td>\n",
       "      <td>Two-and-a-Half Dollar Coin</td>\n",
       "      <td>NaN</td>\n",
       "      <td>NaN</td>\n",
       "      <td>...</td>\n",
       "      <td>NaN</td>\n",
       "      <td>1909–27</td>\n",
       "      <td>1909</td>\n",
       "      <td>1927</td>\n",
       "      <td>Gold</td>\n",
       "      <td>Diam. 11/16 in. (1.7 cm)</td>\n",
       "      <td>Gift of C. Ruxton Love Jr., 1967</td>\n",
       "      <td>Metal</td>\n",
       "      <td>Metropolitan Museum of Art, New York, NY</td>\n",
       "      <td>NaN</td>\n",
       "    </tr>\n",
       "    <tr>\n",
       "      <th>4</th>\n",
       "      <td>False</td>\n",
       "      <td>False</td>\n",
       "      <td>False</td>\n",
       "      <td>5</td>\n",
       "      <td>The American Wing</td>\n",
       "      <td>1967</td>\n",
       "      <td>Coin</td>\n",
       "      <td>Two-and-a-Half Dollar Coin</td>\n",
       "      <td>NaN</td>\n",
       "      <td>NaN</td>\n",
       "      <td>...</td>\n",
       "      <td>NaN</td>\n",
       "      <td>1909–27</td>\n",
       "      <td>1909</td>\n",
       "      <td>1927</td>\n",
       "      <td>Gold</td>\n",
       "      <td>Diam. 11/16 in. (1.7 cm)</td>\n",
       "      <td>Gift of C. Ruxton Love Jr., 1967</td>\n",
       "      <td>Metal</td>\n",
       "      <td>Metropolitan Museum of Art, New York, NY</td>\n",
       "      <td>NaN</td>\n",
       "    </tr>\n",
       "  </tbody>\n",
       "</table>\n",
       "<p>5 rows × 23 columns</p>\n",
       "</div>"
      ],
      "text/plain": [
       "   Is Highlight  Is Public Domain  Is Timeline Work  Object ID  \\\n",
       "0         False             False             False          1   \n",
       "1         False             False             False          2   \n",
       "2         False             False             False          3   \n",
       "3         False             False             False          4   \n",
       "4         False             False             False          5   \n",
       "\n",
       "          Department AccessionYear Object Name                         Title  \\\n",
       "0  The American Wing          1979        Coin  One-dollar Liberty Head Coin   \n",
       "1  The American Wing          1980        Coin  Ten-dollar Liberty Head Coin   \n",
       "2  The American Wing          1967        Coin    Two-and-a-Half Dollar Coin   \n",
       "3  The American Wing          1967        Coin    Two-and-a-Half Dollar Coin   \n",
       "4  The American Wing          1967        Coin    Two-and-a-Half Dollar Coin   \n",
       "\n",
       "  Culture Artist Role  ... Artist Gender Object Date Object Begin Date  \\\n",
       "0     NaN       Maker  ...           NaN        1853              1853   \n",
       "1     NaN       Maker  ...           NaN        1901              1901   \n",
       "2     NaN         NaN  ...           NaN     1909–27              1909   \n",
       "3     NaN         NaN  ...           NaN     1909–27              1909   \n",
       "4     NaN         NaN  ...           NaN     1909–27              1909   \n",
       "\n",
       "  Object End Date Medium                Dimensions  \\\n",
       "0            1853   Gold    Dimensions unavailable   \n",
       "1            1901   Gold    Dimensions unavailable   \n",
       "2            1927   Gold  Diam. 11/16 in. (1.7 cm)   \n",
       "3            1927   Gold  Diam. 11/16 in. (1.7 cm)   \n",
       "4            1927   Gold  Diam. 11/16 in. (1.7 cm)   \n",
       "\n",
       "                          Credit Line Classification  \\\n",
       "0  Gift of Heinz L. Stoppelmann, 1979          Metal   \n",
       "1  Gift of Heinz L. Stoppelmann, 1980          Metal   \n",
       "2    Gift of C. Ruxton Love Jr., 1967          Metal   \n",
       "3    Gift of C. Ruxton Love Jr., 1967          Metal   \n",
       "4    Gift of C. Ruxton Love Jr., 1967          Metal   \n",
       "\n",
       "                                 Repository Tags  \n",
       "0  Metropolitan Museum of Art, New York, NY  NaN  \n",
       "1  Metropolitan Museum of Art, New York, NY  NaN  \n",
       "2  Metropolitan Museum of Art, New York, NY  NaN  \n",
       "3  Metropolitan Museum of Art, New York, NY  NaN  \n",
       "4  Metropolitan Museum of Art, New York, NY  NaN  \n",
       "\n",
       "[5 rows x 23 columns]"
      ]
     },
     "execution_count": 499,
     "metadata": {},
     "output_type": "execute_result"
    }
   ],
   "source": [
    "blank = ['Period', 'Dynasty', 'Reign', 'Artist Display Bio', 'Artist Nationality', 'City', 'State', 'County', 'Country', \n",
    "         'Region', 'Subregion', 'Locale', 'Locus']\n",
    "met = met.drop(blank, axis=1)\n",
    "met.head()"
   ]
  },
  {
   "cell_type": "code",
   "execution_count": 500,
   "metadata": {
    "scrolled": true
   },
   "outputs": [
    {
     "data": {
      "text/plain": [
       "(474383, 23)"
      ]
     },
     "execution_count": 500,
     "metadata": {},
     "output_type": "execute_result"
    }
   ],
   "source": [
    "met.shape"
   ]
  },
  {
   "cell_type": "markdown",
   "metadata": {},
   "source": [
    "#### 1.3 Check if there are duplicate rows"
   ]
  },
  {
   "cell_type": "code",
   "execution_count": 501,
   "metadata": {},
   "outputs": [
    {
     "name": "stdout",
     "output_type": "stream",
     "text": [
      "0         False\n",
      "1         False\n",
      "2         False\n",
      "3         False\n",
      "4         False\n",
      "          ...  \n",
      "474378    False\n",
      "474379    False\n",
      "474380    False\n",
      "474381    False\n",
      "474382    False\n",
      "Length: 474383, dtype: bool\n",
      "(0, 23)\n"
     ]
    }
   ],
   "source": [
    "duplicate_rows_art = met[met.duplicated()]\n",
    "print(met.duplicated())\n",
    "print(duplicate_rows_art.shape)\n",
    "# There's no duplicate rows"
   ]
  },
  {
   "cell_type": "markdown",
   "metadata": {},
   "source": [
    "#### 1.4 Exploring gender and other factors"
   ]
  },
  {
   "cell_type": "code",
   "execution_count": 502,
   "metadata": {
    "scrolled": true
   },
   "outputs": [
    {
     "data": {
      "text/plain": [
       "(100883, 23)"
      ]
     },
     "execution_count": 502,
     "metadata": {},
     "output_type": "execute_result"
    }
   ],
   "source": [
    "gender_met = met.dropna(subset=[\"Artist Gender\"])\n",
    "gender_met.shape"
   ]
  },
  {
   "cell_type": "code",
   "execution_count": 503,
   "metadata": {},
   "outputs": [
    {
     "data": {
      "text/plain": [
       "array(['|', '|Female', '||', '||||', 'Female|', 'Female', '|||',\n",
       "       'Female|Female', '||Female', '|Female|Female', 'Female||',\n",
       "       'Female|Female|Female|Female|Female||Female|Female||||||Female|Female|Female|Female|||Female|||Female|Female|',\n",
       "       '|Female|', 'Female||Female', 'Female|Female|Female|',\n",
       "       '||||||||||', '||||||||', '|||||||||||||||||||||||||||',\n",
       "       'Female|Female|', 'Female|Female||', 'Female|||', '|Female||',\n",
       "       '|Female||Female', '||Female|', '|Female|Female|Female',\n",
       "       '|||Female', 'Female|Female|Female', '||||||', '|Female|||',\n",
       "       '|||||', '||||Female|', '||||||||||||||||', '|||||||',\n",
       "       '|||||||||||||', '|||||||||', '||||||||||||||||||||',\n",
       "       'Female|||||||||||||||||||||||||||||Female||Female||||',\n",
       "       'Female||||Female|||Female|||||||||||||||||Female|',\n",
       "       '|Female||||||||||||||Female', '|||||||Female|||||',\n",
       "       'Female||||Female|||||Female|||',\n",
       "       '|||Female||Female||||||Female|||||Female|||', '||||Female',\n",
       "       '||||||||||||||||||||||||||||||', '||Female||',\n",
       "       'Female|||||||Female|Female||||Female|',\n",
       "       'Female|||Female|||Female|||Female||||', '|||||||||||||||||',\n",
       "       '||||||||||||||||||', '||Female|Female|Female|||||Female||||',\n",
       "       '||||||||||||', '|||||||||||||||',\n",
       "       '||||||||||||||||||||||||||||||||||||||', '||Female||||||',\n",
       "       '||||||||||||||||||||||||||', 'Female|||Female|', '|||||||||||',\n",
       "       '||Female|||||||||||Female|||||||', '|||||||||Female',\n",
       "       '||||||||Female||||||||', '|||||||||||||||Female||||',\n",
       "       '|||Female|', '|||||||||||||||||||',\n",
       "       '|||||||||||||||||||||||||||||', '|||||||Female|',\n",
       "       '||||||||||||||Female|||||||', '||||||||||||||',\n",
       "       '||||||||||Female', '||Female||Female||',\n",
       "       '|Female||||||||||||||||Female|||||||||||||||',\n",
       "       '|||||Female||||||||||||Female|||Female|||||||||',\n",
       "       '||||||||||||Female|||||Female||||||||||||||',\n",
       "       '|||||||||||||||||Female||||||||||||||||',\n",
       "       '|Female|||||||||||||||||||||||',\n",
       "       '||||||||||||||||||||||||||||||||||||||||||||||||||||||||||||||',\n",
       "       '|Female||||||||||||||||||||||||||Female||||Female|||||||||||||||||',\n",
       "       '||||||||||||||||Female|||||||||||||', 'Female||||||',\n",
       "       '||||||||||||||||||||||Female||||Female|Female|Female|||||||Female|||Female|||||||||||||||||||||||||||||Female',\n",
       "       'Female||||||||||||', '||||||||||||||||||||||||||||||||',\n",
       "       '|||||||||||||||||||||||||', '|||||Female|||||||',\n",
       "       '|||||||||||||||||||||||||||||||||', '|||||Female||',\n",
       "       '|||Female|||||', '|||||Female', '||||||||||||||||||||||||',\n",
       "       '|||||||Female|||||||||||||||||||||||||',\n",
       "       '|||||||||||||||||||||||||||||||||||||', '|||||Female||||Female|',\n",
       "       '||||||||Female|Female|||||||||||||||||||',\n",
       "       '|||||||||Female|||||||||||||||||||||||', '|||Female||',\n",
       "       '|||||||||||||||||||||||||||||||||||||||||||||||||',\n",
       "       '||||||||Female||||', '||||||||||||||||||||||',\n",
       "       '|||||||||||||||||||||||||||||||||||||||||||||||', 'Female||||',\n",
       "       '||||||||||||Female|||||', '|Female||||||||',\n",
       "       '||||||||||||Female||||Female||||Female|||||||||||',\n",
       "       '||Female||||', '|||||||||||||||||||||||||||||||||||',\n",
       "       '||||Female|||', 'Female||Female|Female', 'Female|Female||Female',\n",
       "       '||||||||Female|', '|Female|Female|||Female', '||||||Female',\n",
       "       '||||||||||||||||||||||||||||', '|||Female|||',\n",
       "       '||Female|Female|Female|||||||Female||',\n",
       "       '|||||||||||||||||Female|||||', '||||Female|||||||',\n",
       "       '||||||||||||||||||||||||||||||Female|||||',\n",
       "       '|||||||||||||||||||||Female||||||||||||||||||||',\n",
       "       '|||||||||||||||||||||', '||||||||||||||||||||||||||Female|',\n",
       "       '||Female|||', '||||||Female||', '|||Female||Female|',\n",
       "       '||||||||||||||Female|||||Female||',\n",
       "       '||||||||||||||||||||||||||||||||||||||||||||||||||||||||||||||||||||||||||||||',\n",
       "       '|||||||Female', '|||||||||||||||||||||||||||||||||||||||||',\n",
       "       '||||||||Female|||||||',\n",
       "       '|||Female|||Female|Female||||||Female|||||||||||||||||',\n",
       "       '||||||||||||||||||||Female||||||||||||',\n",
       "       '|||||||||||||||||||||||||||||||||||||||', '|||||Female|',\n",
       "       '||||||||||||||Female|||||', '|||||Female||||||', '|Female|||||',\n",
       "       '||||Female|Female||||Female||||||||Female|||',\n",
       "       '|||||||||||||Female|||', '||||||Female|||||',\n",
       "       '||Female||||||Female||||||||',\n",
       "       '||||||||||||||||||||||||||||||||||||||||||||||||||',\n",
       "       '|||||||||||||||||||||||||||||||||||||||||||||||||||||||||||||||||||||',\n",
       "       '||Female||||Female|Female',\n",
       "       '|||||||||||||||Female||Female||||||||Female||||',\n",
       "       'Female||Female||Female|||||||||||||', 'Female|||||||',\n",
       "       'Female|||Female||||||||||Female|||||',\n",
       "       'Female||Female||||||Female|', '|||||Female|Female||||',\n",
       "       '||||Female||||||||', '|||||Female||||||||||||',\n",
       "       '||||||||||||||||||||||||||||||||||Female||||||||||Female',\n",
       "       '||||||||||||Female||||', '||||||||||Female||', '||||Female||',\n",
       "       '|Female||||||||Female|||||||Female|||||||||Female||||',\n",
       "       '||||Female|||||||||||',\n",
       "       '||||||||||||||||||||||||||||||Female|Female||||||||||||||||||||||||||||||||||||||||||Female||||Female|||||||||Female|Female|||||||||||||||||Female||Female||||||||||||||||||||||||||||',\n",
       "       '|Female||||',\n",
       "       '|||||Female||||||||||||||Female|||||||||||||||||||||||||',\n",
       "       '||||||||Female||||||||||||||||||||', 'Female|||||',\n",
       "       '||||||||Female|||||Female||||||||||||Female||Female|Female|||||||||||||||Female|||||||',\n",
       "       '|||Female||||||||||||||||', '|||Female|||||Female',\n",
       "       '||Female|||Female|||', '|Female|||||||||Female|',\n",
       "       '|||Female||||||Female|||||||Female||||',\n",
       "       'Female|||||Female||||||||||||||||Female|',\n",
       "       '||Female|Female||||Female|Female|||||||||Female|',\n",
       "       '||Female|Female||||||Female||Female||||',\n",
       "       '|||||||||||||||Female|||||||||||||||||||||||||||||||||||||||||||||||||||||||||||Female||||||||',\n",
       "       '|||Female||||||||', '|||||||||Female|||||',\n",
       "       '|||||||Female|||||||', '||Female|Female||',\n",
       "       '||||Female||Female||||Female|||||', '|||||||||||||||||||||||',\n",
       "       '|||||||||||Female||||||||||Female||||||',\n",
       "       '||||||||||||||||||||Female||', '||||||||||||||||||Female||',\n",
       "       '|Female|||||||||||Female||||||',\n",
       "       '||Female||Female|Female||Female|Female||||Female||Female|Female||Female||Female|||',\n",
       "       'Female||||Female||||||Female||||Female||Female|||||Female||||||Female|Female|||Female|Female',\n",
       "       '||||Female|||||', '|||Female|||||||||||Female||||||||',\n",
       "       '|||||||||||||||Female|||', '|||Female|||Female|||',\n",
       "       '||||||||||||||||||||||||||||||||||||||||||||',\n",
       "       '||||||||||||||Female|||||||||||||||||||||||', '|Female|Female||',\n",
       "       'Female||||||Female', '||||||Female|||', '||Female||||||||',\n",
       "       '||Female|||||', '||||||||||Female|||||||Female|||||||||||||',\n",
       "       '||||||||||||Female|||||||||',\n",
       "       '||||||||||||||||||Female|||||||||||||||||||||||||||||',\n",
       "       '||||||||||||||||||||||||||||||Female||||||||||||||Female|||',\n",
       "       '||||||||||||Female||||||||Female|',\n",
       "       '|Female||||Female|Female||||||',\n",
       "       '|||||||||||||Female|||||||Female||',\n",
       "       '||||||||||||Female|||Female||',\n",
       "       '|Female||Female||||Female|Female|Female|Female|Female|Female|Female|Female|',\n",
       "       '||||||||||||Female|||||||||||Female||Female|Female||||||||||||Female||',\n",
       "       '|||||||||||||||||||||||||||||||||||||||||||',\n",
       "       'Female|Female||Female|',\n",
       "       'Female||||||||||||||Female|||||||||||||||||', '||Female|||||||',\n",
       "       'Female|||Female|||Female|', '|Female||||||||||||||||||||||||||||',\n",
       "       '|Female|||||||', '|||||Female||||||||||||||',\n",
       "       '||||||||||||||||||||||||||||||||||||||||||||||||||||||||||||||||||||||||||||',\n",
       "       'Female||||Female|||Female|Female|Female|Female||||||Female||Female||Female|Female|||Female||Female|Female||Female|Female|Female||||Female||||',\n",
       "       '|||||||||Female||||||||', '|||||||||||||||||Female',\n",
       "       '||Female|||||||||', 'Female|Female|||',\n",
       "       '||||||Female|||||||||||||||||||Female|||||||||',\n",
       "       '|||||||Female|||||||||||||||',\n",
       "       '||||||||||||||||||||||||||||||||||||||||||||||||||||||||Female||||||||||||||||Female|||||||||||||||||||||||||||||||||||',\n",
       "       '||||||||||||||||||||||||||||||||||||||||||||||||||||||||||||||||Female|||||||||||||Female||||||||||||||||||||||||||||||||||||||||||||||||||||||||||',\n",
       "       '|||||||||||||||||||||||||||||||Female||||||||',\n",
       "       '|Female||Female|Female|||||',\n",
       "       '|||||||||||||||||||||||||Female||||',\n",
       "       '|||||||||||||||||||||Female||||||', 'Female|||||||||||',\n",
       "       '|Female|||Female', 'Female||||Female', 'Female|||Female',\n",
       "       'Female||||Female|', '|Female|Female|',\n",
       "       '|||||||||||||||||Female||Female|||',\n",
       "       '||Female||||||||||||||||||||||||',\n",
       "       '|||||||||||||Female||||||||||||', 'Female||||||||||||||',\n",
       "       'Female|||||||||||||', 'Female|||||Female',\n",
       "       '||||||||||||||Female||Female|||||||', '|||||Female||||',\n",
       "       '||||||||||||||||||||Female||||||', '||Female|Female|',\n",
       "       'Female||Female|Female|Female||Female|Female||',\n",
       "       'Female|Female|Female|Female|Female|Female|Female||Female|Female|Female|Female|Female|Female|Female|Female|Female|Female||Female|Female|Female',\n",
       "       '|||Female|||||Female|', '|||||||||||Female', '|||Female|Female',\n",
       "       '|||Female|||Female||||Female||', '||||||Female|',\n",
       "       '||||Female|||Female|Female|', 'Female|||Female||Female||||',\n",
       "       '|Female|Female|Female||||||', 'Female|Female|Female|||||||',\n",
       "       '|Female||Female||||Female||', '|||Female||Female|Female',\n",
       "       '|Female|Female||Female|||Female||Female', '|Female||Female|',\n",
       "       '||Female||Female', 'Female||Female||', '||Female|Female',\n",
       "       '||||||Female||||||||||||||||||||||', '||Female||Female|||',\n",
       "       '||||||||Female||||||',\n",
       "       'Female|Female|Female|Female|Female|Female|Female',\n",
       "       '||Female|||||||Female|', '|||Female||||',\n",
       "       'Female|||||Female||||Female|', '|Female||Female|||',\n",
       "       'Female||Female|', 'Female||Female|||', '||||Female|Female',\n",
       "       '|||||||||||||||||||||||||||||||Female||||||||Female|||||||||||Female||||||||||||||||||||||||||||||||||||',\n",
       "       '|||||Female|||||||||||||||||||||||||||||||||||||||||||||||||||||||||||||||||',\n",
       "       '|||||||||||||||||||||||||||Female|||||Female|||||||||||||||||Female|||||||Female||',\n",
       "       '||||||||||Female|||||||||||||||||||||||||||||Female|||||||||',\n",
       "       '||||||||Female|||Female||'], dtype=object)"
      ]
     },
     "execution_count": 503,
     "metadata": {},
     "output_type": "execute_result"
    }
   ],
   "source": [
    "gender_met[\"Artist Gender\"].unique()"
   ]
  },
  {
   "cell_type": "code",
   "execution_count": 504,
   "metadata": {},
   "outputs": [
    {
     "data": {
      "text/plain": [
       "(8459, 23)"
      ]
     },
     "execution_count": 504,
     "metadata": {},
     "output_type": "execute_result"
    }
   ],
   "source": [
    "gender_met = gender_met[(gender_met[\"Artist Gender\"]==\"Male\") \n",
    "           | (gender_met[\"Artist Gender\"]==\"Female\")]\n",
    "gender_met.shape"
   ]
  },
  {
   "cell_type": "code",
   "execution_count": 505,
   "metadata": {},
   "outputs": [
    {
     "data": {
      "text/plain": [
       "array(['Female'], dtype=object)"
      ]
     },
     "execution_count": 505,
     "metadata": {},
     "output_type": "execute_result"
    }
   ],
   "source": [
    "gender_met[\"Artist Gender\"].unique()"
   ]
  },
  {
   "cell_type": "markdown",
   "metadata": {},
   "source": [
    ">it could be noted that among the artists, much of the gender information is missing, and among the exisiting information about gender, there are only Female or unknown \"|\"; thus not much information about gender's relation to artwork can be gathered "
   ]
  },
  {
   "cell_type": "markdown",
   "metadata": {},
   "source": [
    "#### 1.5 Data Visualization about the the amount of artwork each department attained throughout the years"
   ]
  },
  {
   "cell_type": "code",
   "execution_count": 506,
   "metadata": {},
   "outputs": [
    {
     "data": {
      "text/html": [
       "<div>\n",
       "<style scoped>\n",
       "    .dataframe tbody tr th:only-of-type {\n",
       "        vertical-align: middle;\n",
       "    }\n",
       "\n",
       "    .dataframe tbody tr th {\n",
       "        vertical-align: top;\n",
       "    }\n",
       "\n",
       "    .dataframe thead th {\n",
       "        text-align: right;\n",
       "    }\n",
       "</style>\n",
       "<table border=\"1\" class=\"dataframe\">\n",
       "  <thead>\n",
       "    <tr style=\"text-align: right;\">\n",
       "      <th></th>\n",
       "      <th>Object ID</th>\n",
       "      <th>Is Highlight</th>\n",
       "      <th>Is Public Domain</th>\n",
       "      <th>Is Timeline Work</th>\n",
       "      <th>Department</th>\n",
       "      <th>AccessionYear</th>\n",
       "      <th>Culture</th>\n",
       "      <th>Credit Line</th>\n",
       "    </tr>\n",
       "  </thead>\n",
       "  <tbody>\n",
       "    <tr>\n",
       "      <th>0</th>\n",
       "      <td>1</td>\n",
       "      <td>False</td>\n",
       "      <td>False</td>\n",
       "      <td>False</td>\n",
       "      <td>The American Wing</td>\n",
       "      <td>1979</td>\n",
       "      <td>NaN</td>\n",
       "      <td>Gift of Heinz L. Stoppelmann, 1979</td>\n",
       "    </tr>\n",
       "    <tr>\n",
       "      <th>1</th>\n",
       "      <td>2</td>\n",
       "      <td>False</td>\n",
       "      <td>False</td>\n",
       "      <td>False</td>\n",
       "      <td>The American Wing</td>\n",
       "      <td>1980</td>\n",
       "      <td>NaN</td>\n",
       "      <td>Gift of Heinz L. Stoppelmann, 1980</td>\n",
       "    </tr>\n",
       "    <tr>\n",
       "      <th>2</th>\n",
       "      <td>3</td>\n",
       "      <td>False</td>\n",
       "      <td>False</td>\n",
       "      <td>False</td>\n",
       "      <td>The American Wing</td>\n",
       "      <td>1967</td>\n",
       "      <td>NaN</td>\n",
       "      <td>Gift of C. Ruxton Love Jr., 1967</td>\n",
       "    </tr>\n",
       "    <tr>\n",
       "      <th>3</th>\n",
       "      <td>4</td>\n",
       "      <td>False</td>\n",
       "      <td>False</td>\n",
       "      <td>False</td>\n",
       "      <td>The American Wing</td>\n",
       "      <td>1967</td>\n",
       "      <td>NaN</td>\n",
       "      <td>Gift of C. Ruxton Love Jr., 1967</td>\n",
       "    </tr>\n",
       "    <tr>\n",
       "      <th>4</th>\n",
       "      <td>5</td>\n",
       "      <td>False</td>\n",
       "      <td>False</td>\n",
       "      <td>False</td>\n",
       "      <td>The American Wing</td>\n",
       "      <td>1967</td>\n",
       "      <td>NaN</td>\n",
       "      <td>Gift of C. Ruxton Love Jr., 1967</td>\n",
       "    </tr>\n",
       "  </tbody>\n",
       "</table>\n",
       "</div>"
      ],
      "text/plain": [
       "   Object ID  Is Highlight  Is Public Domain  Is Timeline Work  \\\n",
       "0          1         False             False             False   \n",
       "1          2         False             False             False   \n",
       "2          3         False             False             False   \n",
       "3          4         False             False             False   \n",
       "4          5         False             False             False   \n",
       "\n",
       "          Department AccessionYear Culture                         Credit Line  \n",
       "0  The American Wing          1979     NaN  Gift of Heinz L. Stoppelmann, 1979  \n",
       "1  The American Wing          1980     NaN  Gift of Heinz L. Stoppelmann, 1980  \n",
       "2  The American Wing          1967     NaN    Gift of C. Ruxton Love Jr., 1967  \n",
       "3  The American Wing          1967     NaN    Gift of C. Ruxton Love Jr., 1967  \n",
       "4  The American Wing          1967     NaN    Gift of C. Ruxton Love Jr., 1967  "
      ]
     },
     "execution_count": 506,
     "metadata": {},
     "output_type": "execute_result"
    }
   ],
   "source": [
    "met_data_mini = met[[\"Object ID\", \"Is Highlight\", \"Is Public Domain\", \"Is Timeline Work\", \"Department\", \"AccessionYear\", \"Culture\", \"Credit Line\"]]\n",
    "met_data_mini.head()"
   ]
  },
  {
   "cell_type": "code",
   "execution_count": 507,
   "metadata": {},
   "outputs": [
    {
     "data": {
      "text/plain": [
       "(204870, 8)"
      ]
     },
     "execution_count": 507,
     "metadata": {},
     "output_type": "execute_result"
    }
   ],
   "source": [
    "met_data_mini = met_data_mini.dropna()\n",
    "met_data_mini.shape"
   ]
  },
  {
   "cell_type": "code",
   "execution_count": 508,
   "metadata": {},
   "outputs": [
    {
     "data": {
      "text/plain": [
       "array([1916, 1909, 1964, 1970, 1904, 1976, 1938, 1918, 1946, 1960, 1923,\n",
       "       1936, 1949, 1984, 1989, 1941, 1985, 1930, 1952, 1971, 1968, 1919,\n",
       "       1978, 1972, 1924, 1910, 1950, 1925, 1926, 1931, 1932, 1934, 1939,\n",
       "       1947, 1948, 1951, 1953, 2006, 1969, 1975, 1981, 1986, 1959, 1944,\n",
       "       1979, 1982, 1945, 1888, 1911, 1957, 1980, 1943, 1917, 1973, 1937,\n",
       "       1940, 1913, 1962, 1983, 1914, 1966, 1954, 1920, 1933, 1967, 2014,\n",
       "       1928, 1901, 1958, 1965, 1883, 1935, 1987, 1974, 1977, 1915, 1942,\n",
       "       1912, 1922, 1927, 1896, 1892, 1877, 1906, 1961, 1994, 1907, 1929,\n",
       "       2018, 1908, 1921, 1963, 2010, 2000, 1988, 1955, 1956, 2012, 2013,\n",
       "       2002, 1999, 1894, 1897, 1993, 1893, 1992, 1996, 1898, 1899, 1991,\n",
       "       1880, 1876, 1886, 1895, 1997, 2019, 1990, 1891, 1881, 1890, 1903,\n",
       "       1900, 1905, 1995, 1902, 1887, 2011, 1874, 1885, 1873, 1884, 1882,\n",
       "       1875, 1872, 2001, 1889, 2008, 2007, 2015, 1998, 2003, 2005, 2016,\n",
       "       2004, 2017, 2009, 1879, 2020, 1870])"
      ]
     },
     "execution_count": 508,
     "metadata": {},
     "output_type": "execute_result"
    }
   ],
   "source": [
    "met_data_mini = met_data_mini.astype({\"AccessionYear\": int})\n",
    "met_data_mini[\"AccessionYear\"].unique()"
   ]
  },
  {
   "cell_type": "code",
   "execution_count": 509,
   "metadata": {},
   "outputs": [
    {
     "data": {
      "text/html": [
       "<div>\n",
       "<style scoped>\n",
       "    .dataframe tbody tr th:only-of-type {\n",
       "        vertical-align: middle;\n",
       "    }\n",
       "\n",
       "    .dataframe tbody tr th {\n",
       "        vertical-align: top;\n",
       "    }\n",
       "\n",
       "    .dataframe thead th {\n",
       "        text-align: right;\n",
       "    }\n",
       "</style>\n",
       "<table border=\"1\" class=\"dataframe\">\n",
       "  <thead>\n",
       "    <tr style=\"text-align: right;\">\n",
       "      <th></th>\n",
       "      <th>Object ID</th>\n",
       "      <th>Is Highlight</th>\n",
       "      <th>Is Public Domain</th>\n",
       "      <th>Is Timeline Work</th>\n",
       "      <th>Department</th>\n",
       "      <th>AccessionYear</th>\n",
       "      <th>Culture</th>\n",
       "      <th>Credit Line</th>\n",
       "    </tr>\n",
       "  </thead>\n",
       "  <tbody>\n",
       "    <tr>\n",
       "      <th>138900</th>\n",
       "      <td>239584</td>\n",
       "      <td>True</td>\n",
       "      <td>True</td>\n",
       "      <td>True</td>\n",
       "      <td>Greek and Roman Art</td>\n",
       "      <td>1870</td>\n",
       "      <td>Roman</td>\n",
       "      <td>Gift of Abdo Debbas, 1870</td>\n",
       "    </tr>\n",
       "    <tr>\n",
       "      <th>97157</th>\n",
       "      <td>185835</td>\n",
       "      <td>False</td>\n",
       "      <td>False</td>\n",
       "      <td>True</td>\n",
       "      <td>European Sculpture and Decorative Arts</td>\n",
       "      <td>1872</td>\n",
       "      <td>German, Munich</td>\n",
       "      <td>Gift of Griffith Rowe, 1872</td>\n",
       "    </tr>\n",
       "    <tr>\n",
       "      <th>118190</th>\n",
       "      <td>208578</td>\n",
       "      <td>False</td>\n",
       "      <td>True</td>\n",
       "      <td>True</td>\n",
       "      <td>European Sculpture and Decorative Arts</td>\n",
       "      <td>1872</td>\n",
       "      <td>French</td>\n",
       "      <td>Gift of John Bard, 1872</td>\n",
       "    </tr>\n",
       "    <tr>\n",
       "      <th>10799</th>\n",
       "      <td>11790</td>\n",
       "      <td>True</td>\n",
       "      <td>True</td>\n",
       "      <td>True</td>\n",
       "      <td>The American Wing</td>\n",
       "      <td>1872</td>\n",
       "      <td>American</td>\n",
       "      <td>Gift of William Backhouse Astor, 1872</td>\n",
       "    </tr>\n",
       "    <tr>\n",
       "      <th>97187</th>\n",
       "      <td>185865</td>\n",
       "      <td>False</td>\n",
       "      <td>False</td>\n",
       "      <td>True</td>\n",
       "      <td>European Sculpture and Decorative Arts</td>\n",
       "      <td>1873</td>\n",
       "      <td>British, after Italian, Venice original</td>\n",
       "      <td>Purchase, 1873</td>\n",
       "    </tr>\n",
       "  </tbody>\n",
       "</table>\n",
       "</div>"
      ],
      "text/plain": [
       "        Object ID  Is Highlight  Is Public Domain  Is Timeline Work  \\\n",
       "138900     239584          True              True              True   \n",
       "97157      185835         False             False              True   \n",
       "118190     208578         False              True              True   \n",
       "10799       11790          True              True              True   \n",
       "97187      185865         False             False              True   \n",
       "\n",
       "                                    Department  AccessionYear  \\\n",
       "138900                     Greek and Roman Art           1870   \n",
       "97157   European Sculpture and Decorative Arts           1872   \n",
       "118190  European Sculpture and Decorative Arts           1872   \n",
       "10799                        The American Wing           1872   \n",
       "97187   European Sculpture and Decorative Arts           1873   \n",
       "\n",
       "                                        Culture  \\\n",
       "138900                                    Roman   \n",
       "97157                            German, Munich   \n",
       "118190                                   French   \n",
       "10799                                  American   \n",
       "97187   British, after Italian, Venice original   \n",
       "\n",
       "                                  Credit Line  \n",
       "138900              Gift of Abdo Debbas, 1870  \n",
       "97157             Gift of Griffith Rowe, 1872  \n",
       "118190                Gift of John Bard, 1872  \n",
       "10799   Gift of William Backhouse Astor, 1872  \n",
       "97187                          Purchase, 1873  "
      ]
     },
     "execution_count": 509,
     "metadata": {},
     "output_type": "execute_result"
    }
   ],
   "source": [
    "met_data_sorted = met_data_mini.sort_values(by=[\"AccessionYear\"], ascending=True)\n",
    "met_data_sorted.head()"
   ]
  },
  {
   "cell_type": "code",
   "execution_count": 510,
   "metadata": {},
   "outputs": [
    {
     "data": {
      "text/plain": [
       "(204870, 8)"
      ]
     },
     "execution_count": 510,
     "metadata": {},
     "output_type": "execute_result"
    }
   ],
   "source": [
    "met_data_sorted.shape"
   ]
  },
  {
   "cell_type": "code",
   "execution_count": 511,
   "metadata": {},
   "outputs": [
    {
     "data": {
      "text/plain": [
       "array(['Greek and Roman Art', 'European Sculpture and Decorative Arts',\n",
       "       'The American Wing', 'Medieval Art', 'Ancient Near Eastern Art',\n",
       "       'Asian Art', 'Arts of Africa, Oceania, and the Americas',\n",
       "       'Costume Institute', 'Arms and Armor', 'Musical Instruments',\n",
       "       'The Cloisters', 'Modern and Contemporary Art',\n",
       "       'Robert Lehman Collection'], dtype=object)"
      ]
     },
     "execution_count": 511,
     "metadata": {},
     "output_type": "execute_result"
    }
   ],
   "source": [
    "met_data_sorted[\"Department\"].unique()"
   ]
  },
  {
   "cell_type": "code",
   "execution_count": 512,
   "metadata": {},
   "outputs": [
    {
     "data": {
      "text/html": [
       "<div>\n",
       "<style scoped>\n",
       "    .dataframe tbody tr th:only-of-type {\n",
       "        vertical-align: middle;\n",
       "    }\n",
       "\n",
       "    .dataframe tbody tr th {\n",
       "        vertical-align: top;\n",
       "    }\n",
       "\n",
       "    .dataframe thead th {\n",
       "        text-align: right;\n",
       "    }\n",
       "</style>\n",
       "<table border=\"1\" class=\"dataframe\">\n",
       "  <thead>\n",
       "    <tr style=\"text-align: right;\">\n",
       "      <th></th>\n",
       "      <th>AccessionYear</th>\n",
       "      <th>Object ID</th>\n",
       "    </tr>\n",
       "  </thead>\n",
       "  <tbody>\n",
       "    <tr>\n",
       "      <th>0</th>\n",
       "      <td>1870</td>\n",
       "      <td>1</td>\n",
       "    </tr>\n",
       "    <tr>\n",
       "      <th>1</th>\n",
       "      <td>1872</td>\n",
       "      <td>3</td>\n",
       "    </tr>\n",
       "    <tr>\n",
       "      <th>2</th>\n",
       "      <td>1873</td>\n",
       "      <td>65</td>\n",
       "    </tr>\n",
       "    <tr>\n",
       "      <th>3</th>\n",
       "      <td>1874</td>\n",
       "      <td>4731</td>\n",
       "    </tr>\n",
       "    <tr>\n",
       "      <th>4</th>\n",
       "      <td>1875</td>\n",
       "      <td>47</td>\n",
       "    </tr>\n",
       "  </tbody>\n",
       "</table>\n",
       "</div>"
      ],
      "text/plain": [
       "   AccessionYear  Object ID\n",
       "0           1870          1\n",
       "1           1872          3\n",
       "2           1873         65\n",
       "3           1874       4731\n",
       "4           1875         47"
      ]
     },
     "execution_count": 512,
     "metadata": {},
     "output_type": "execute_result"
    }
   ],
   "source": [
    "met_mini_data = met_data_sorted[[\"AccessionYear\", \"Object ID\"]].groupby(\"AccessionYear\", as_index=False).count()\n",
    "met_mini_data.head()"
   ]
  },
  {
   "cell_type": "code",
   "execution_count": 513,
   "metadata": {
    "scrolled": true
   },
   "outputs": [],
   "source": [
    "met_mini_data = met_mini_data.rename(columns={\"Object ID\": \"Object Number\"})"
   ]
  },
  {
   "cell_type": "code",
   "execution_count": 514,
   "metadata": {},
   "outputs": [
    {
     "data": {
      "image/png": "[encoded data removed]",
      "text/plain": [
       "<Figure size 432x288 with 1 Axes>"
      ]
     },
     "metadata": {
      "needs_background": "light"
     },
     "output_type": "display_data"
    }
   ],
   "source": [
    "# a lineplot of the artwork accession pattern throughout the years\n",
    "lp = sns.lineplot(x=\"AccessionYear\", y=\"Object Number\", data=met_mini_data)"
   ]
  },
  {
   "cell_type": "code",
   "execution_count": 515,
   "metadata": {},
   "outputs": [],
   "source": [
    "# in the following steps I select some interesting pattern of accession and number correlation in several departments"
   ]
  },
  {
   "cell_type": "code",
   "execution_count": 517,
   "metadata": {},
   "outputs": [
    {
     "data": {
      "image/png": "[encoded data removed]",
      "text/plain": [
       "<Figure size 432x288 with 1 Axes>"
      ]
     },
     "metadata": {
      "needs_background": "light"
     },
     "output_type": "display_data"
    }
   ],
   "source": [
    "# Ancient Near Eastern Art Department\n",
    "met_near_eastern = met_data_mini[met_data_mini[\"Department\"] == \"Ancient Near Eastern Art\"].sort_values(by=[\"AccessionYear\"], ascending=True)\n",
    "met_mini_data2 = met_near_eastern[[\"AccessionYear\", \"Object ID\"]].groupby(\"AccessionYear\", as_index=False).count()\n",
    "met_mini_data2 = met_mini_data2.rename(columns={\"Object ID\": \"Object Number\"})\n",
    "lp2 = sns.lineplot(x=\"AccessionYear\", y=\"Object Number\", data=met_mini_data2)"
   ]
  },
  {
   "cell_type": "code",
   "execution_count": 518,
   "metadata": {},
   "outputs": [
    {
     "data": {
      "image/png": "[encoded data removed]",
      "text/plain": [
       "<Figure size 432x288 with 1 Axes>"
      ]
     },
     "metadata": {
      "needs_background": "light"
     },
     "output_type": "display_data"
    }
   ],
   "source": [
    "# Arts of Africa, Ocenia, and the Americas\n",
    "met_AOA = met_data_mini[met_data_mini[\"Department\"] == \"Arts of Africa, Oceania, and the Americas\"].sort_values(by=[\"AccessionYear\"], ascending=True)\n",
    "met_mini_data3 = met_AOA[[\"AccessionYear\", \"Object ID\"]].groupby(\"AccessionYear\", as_index=False).count()\n",
    "met_mini_data3 = met_mini_data3.rename(columns={\"Object ID\": \"Object Number\"})\n",
    "lp3 = sns.lineplot(x=\"AccessionYear\", y=\"Object Number\", data=met_mini_data3)"
   ]
  },
  {
   "cell_type": "code",
   "execution_count": 519,
   "metadata": {},
   "outputs": [
    {
     "data": {
      "image/png": "[encoded data removed]",
      "text/plain": [
       "<Figure size 432x288 with 1 Axes>"
      ]
     },
     "metadata": {
      "needs_background": "light"
     },
     "output_type": "display_data"
    }
   ],
   "source": [
    "# Asian Art\n",
    "met_Asian = met_data_mini[met_data_mini[\"Department\"] == \"Asian Art\"].sort_values(by=[\"AccessionYear\"], ascending=True)\n",
    "met_mini_data4 = met_Asian[[\"AccessionYear\", \"Object ID\"]].groupby(\"AccessionYear\", as_index=False).count()\n",
    "met_mini_data4 = met_mini_data4.rename(columns={\"Object ID\": \"Object Number\"})\n",
    "lp4 = sns.lineplot(x=\"AccessionYear\", y=\"Object Number\", data=met_mini_data4)"
   ]
  },
  {
   "cell_type": "code",
   "execution_count": 520,
   "metadata": {},
   "outputs": [
    {
     "data": {
      "image/png": "[encoded data removed]",
      "text/plain": [
       "<Figure size 432x288 with 1 Axes>"
      ]
     },
     "metadata": {
      "needs_background": "light"
     },
     "output_type": "display_data"
    }
   ],
   "source": [
    "# European Sculpture and decorative art\n",
    "met_European = met_data_mini[met_data_mini[\"Department\"] == \"European Sculpture and Decorative Arts\"].sort_values(by=[\"AccessionYear\"], ascending=True)\n",
    "met_mini_data5 = met_European[[\"AccessionYear\", \"Object ID\"]].groupby(\"AccessionYear\", as_index=False).count()\n",
    "met_mini_data5 = met_mini_data5.rename(columns={\"Object ID\": \"Object Number\"})\n",
    "lp5 = sns.lineplot(x=\"AccessionYear\", y=\"Object Number\", data=met_mini_data5)"
   ]
  },
  {
   "cell_type": "code",
   "execution_count": 521,
   "metadata": {},
   "outputs": [
    {
     "data": {
      "image/png": "[encoded data removed]",
      "text/plain": [
       "<Figure size 432x288 with 1 Axes>"
      ]
     },
     "metadata": {
      "needs_background": "light"
     },
     "output_type": "display_data"
    }
   ],
   "source": [
    "# Modern and Contemporary Art\n",
    "met_modern = met_data_mini[met_data_mini[\"Department\"] == \"Modern and Contemporary Art\"].sort_values(by=[\"AccessionYear\"], ascending=True)\n",
    "met_mini_data6 = met_modern[[\"AccessionYear\", \"Object ID\"]].groupby(\"AccessionYear\", as_index=False).count()\n",
    "met_mini_data6 = met_mini_data6.rename(columns={\"Object ID\": \"Object Number\"})\n",
    "lp6 = sns.lineplot(x=\"AccessionYear\", y=\"Object Number\", data=met_mini_data6)"
   ]
  },
  {
   "cell_type": "markdown",
   "metadata": {},
   "source": [
    "### 2. Hypothesis Testing"
   ]
  },
  {
   "cell_type": "markdown",
   "metadata": {},
   "source": [
    ">Null Hypothesis: There is no significant difference between cultures in terms of number of works considered to be a highlight"
   ]
  },
  {
   "cell_type": "code",
   "execution_count": 522,
   "metadata": {},
   "outputs": [
    {
     "data": {
      "text/plain": [
       "Is Highlight           0.000000\n",
       "Is Public Domain       0.000000\n",
       "Is Timeline Work       0.000000\n",
       "Object ID              0.000000\n",
       "Department             0.000000\n",
       "AccessionYear          0.128984\n",
       "Object Name            0.141434\n",
       "Title                  0.011952\n",
       "Culture                0.495020\n",
       "Artist Role            0.384960\n",
       "Artist Display Name    0.374004\n",
       "Artist Begin Date      0.422809\n",
       "Artist End Date        0.423307\n",
       "Artist Gender          0.821215\n",
       "Object Date            0.002490\n",
       "Object Begin Date      0.000000\n",
       "Object End Date        0.000000\n",
       "Medium                 0.114542\n",
       "Dimensions             0.051295\n",
       "Credit Line            0.054283\n",
       "Classification         0.211155\n",
       "Repository             0.000000\n",
       "Tags                   0.267928\n",
       "dtype: float64"
      ]
     },
     "execution_count": 522,
     "metadata": {},
     "output_type": "execute_result"
    }
   ],
   "source": [
    "highlights = met[met['Is Highlight']==True]\n",
    "highlights.isnull().mean()"
   ]
  },
  {
   "cell_type": "code",
   "execution_count": 523,
   "metadata": {},
   "outputs": [],
   "source": [
    "highlights = highlights.dropna(subset=['Culture'])\n",
    "commas = [c.split(',')[0] if ',' in c else c for c in highlights.Culture]"
   ]
  },
  {
   "cell_type": "code",
   "execution_count": 524,
   "metadata": {},
   "outputs": [
    {
     "data": {
      "text/html": [
       "<div>\n",
       "<style scoped>\n",
       "    .dataframe tbody tr th:only-of-type {\n",
       "        vertical-align: middle;\n",
       "    }\n",
       "\n",
       "    .dataframe tbody tr th {\n",
       "        vertical-align: top;\n",
       "    }\n",
       "\n",
       "    .dataframe thead th {\n",
       "        text-align: right;\n",
       "    }\n",
       "</style>\n",
       "<table border=\"1\" class=\"dataframe\">\n",
       "  <thead>\n",
       "    <tr style=\"text-align: right;\">\n",
       "      <th></th>\n",
       "      <th>Is Highlight</th>\n",
       "      <th>Is Public Domain</th>\n",
       "      <th>Is Timeline Work</th>\n",
       "      <th>Object ID</th>\n",
       "      <th>Department</th>\n",
       "      <th>AccessionYear</th>\n",
       "      <th>Object Name</th>\n",
       "      <th>Title</th>\n",
       "      <th>Culture</th>\n",
       "      <th>Artist Role</th>\n",
       "      <th>...</th>\n",
       "      <th>Artist Gender</th>\n",
       "      <th>Object Date</th>\n",
       "      <th>Object Begin Date</th>\n",
       "      <th>Object End Date</th>\n",
       "      <th>Medium</th>\n",
       "      <th>Dimensions</th>\n",
       "      <th>Credit Line</th>\n",
       "      <th>Classification</th>\n",
       "      <th>Repository</th>\n",
       "      <th>Tags</th>\n",
       "    </tr>\n",
       "  </thead>\n",
       "  <tbody>\n",
       "    <tr>\n",
       "      <th>167</th>\n",
       "      <td>True</td>\n",
       "      <td>True</td>\n",
       "      <td>True</td>\n",
       "      <td>200</td>\n",
       "      <td>The American Wing</td>\n",
       "      <td>1951</td>\n",
       "      <td>Armchair</td>\n",
       "      <td>Spindle-back armchair</td>\n",
       "      <td>American</td>\n",
       "      <td>NaN</td>\n",
       "      <td>...</td>\n",
       "      <td>NaN</td>\n",
       "      <td>1640–80</td>\n",
       "      <td>1640</td>\n",
       "      <td>1680</td>\n",
       "      <td>Ash</td>\n",
       "      <td>44 3/4 x 23 1/2 x 15 3/4 in. (113.7 x 59.7 x 4...</td>\n",
       "      <td>Gift of Mrs. J. Insley Blair, 1951</td>\n",
       "      <td>Furniture</td>\n",
       "      <td>Metropolitan Museum of Art, New York, NY</td>\n",
       "      <td>NaN</td>\n",
       "    </tr>\n",
       "    <tr>\n",
       "      <th>201</th>\n",
       "      <td>True</td>\n",
       "      <td>True</td>\n",
       "      <td>True</td>\n",
       "      <td>237</td>\n",
       "      <td>The American Wing</td>\n",
       "      <td>1970</td>\n",
       "      <td>Armchair</td>\n",
       "      <td>Armchair</td>\n",
       "      <td>American</td>\n",
       "      <td>Maker</td>\n",
       "      <td>...</td>\n",
       "      <td>NaN</td>\n",
       "      <td>ca. 1870–75</td>\n",
       "      <td>1867</td>\n",
       "      <td>1875</td>\n",
       "      <td>Rosewood, prickly juniper veneer</td>\n",
       "      <td>37 x 27 1/2 x 27 1/2 in. (94 x 69.9 x 69.9 cm)</td>\n",
       "      <td>Funds from various donors, 1970</td>\n",
       "      <td>Furniture</td>\n",
       "      <td>Metropolitan Museum of Art, New York, NY</td>\n",
       "      <td>Sphinx</td>\n",
       "    </tr>\n",
       "    <tr>\n",
       "      <th>241</th>\n",
       "      <td>True</td>\n",
       "      <td>True</td>\n",
       "      <td>False</td>\n",
       "      <td>282</td>\n",
       "      <td>The American Wing</td>\n",
       "      <td>1925</td>\n",
       "      <td>Window</td>\n",
       "      <td>Autumn Landscape</td>\n",
       "      <td>American</td>\n",
       "      <td>Maker|Designer</td>\n",
       "      <td>...</td>\n",
       "      <td>|Female</td>\n",
       "      <td>1923–24</td>\n",
       "      <td>1923</td>\n",
       "      <td>1924</td>\n",
       "      <td>Leaded Favrile glass</td>\n",
       "      <td>132 x 102 in. (335.3 x 259.1 cm)</td>\n",
       "      <td>Gift of Robert W. de Forest, 1925</td>\n",
       "      <td>Glass</td>\n",
       "      <td>Metropolitan Museum of Art, New York, NY</td>\n",
       "      <td>Windows|Waterfalls|Landscapes|Autumn</td>\n",
       "    </tr>\n",
       "    <tr>\n",
       "      <th>317</th>\n",
       "      <td>True</td>\n",
       "      <td>True</td>\n",
       "      <td>True</td>\n",
       "      <td>364</td>\n",
       "      <td>The American Wing</td>\n",
       "      <td>1954</td>\n",
       "      <td>Basket</td>\n",
       "      <td>Basket</td>\n",
       "      <td>American</td>\n",
       "      <td>Maker</td>\n",
       "      <td>...</td>\n",
       "      <td>NaN</td>\n",
       "      <td>1770–76</td>\n",
       "      <td>1770</td>\n",
       "      <td>1776</td>\n",
       "      <td>Silver</td>\n",
       "      <td>11 3/16 x 14 7/16 x 11 3/8 in. (28.4 x 36.7 x ...</td>\n",
       "      <td>Morris K. Jesup Fund, 1954</td>\n",
       "      <td>Silver</td>\n",
       "      <td>Metropolitan Museum of Art, New York, NY</td>\n",
       "      <td>NaN</td>\n",
       "    </tr>\n",
       "    <tr>\n",
       "      <th>611</th>\n",
       "      <td>True</td>\n",
       "      <td>True</td>\n",
       "      <td>True</td>\n",
       "      <td>674</td>\n",
       "      <td>The American Wing</td>\n",
       "      <td>1912</td>\n",
       "      <td>Basin</td>\n",
       "      <td>Basin</td>\n",
       "      <td>Mexican</td>\n",
       "      <td>Artist</td>\n",
       "      <td>...</td>\n",
       "      <td>NaN</td>\n",
       "      <td>ca. 1650</td>\n",
       "      <td>1647</td>\n",
       "      <td>1650</td>\n",
       "      <td>Tin-glazed earthenware</td>\n",
       "      <td>Diam. 20 3/4 in. (52.7 cm)</td>\n",
       "      <td>Gift of Mrs. Robert W. de Forest, 1912</td>\n",
       "      <td>Ceramics</td>\n",
       "      <td>Metropolitan Museum of Art, New York, NY</td>\n",
       "      <td>Flowers|Basins</td>\n",
       "    </tr>\n",
       "  </tbody>\n",
       "</table>\n",
       "<p>5 rows × 23 columns</p>\n",
       "</div>"
      ],
      "text/plain": [
       "     Is Highlight  Is Public Domain  Is Timeline Work  Object ID  \\\n",
       "167          True              True              True        200   \n",
       "201          True              True              True        237   \n",
       "241          True              True             False        282   \n",
       "317          True              True              True        364   \n",
       "611          True              True              True        674   \n",
       "\n",
       "            Department AccessionYear Object Name                  Title  \\\n",
       "167  The American Wing          1951    Armchair  Spindle-back armchair   \n",
       "201  The American Wing          1970    Armchair               Armchair   \n",
       "241  The American Wing          1925      Window       Autumn Landscape   \n",
       "317  The American Wing          1954      Basket                 Basket   \n",
       "611  The American Wing          1912       Basin                  Basin   \n",
       "\n",
       "      Culture     Artist Role  ... Artist Gender  Object Date  \\\n",
       "167  American             NaN  ...           NaN      1640–80   \n",
       "201  American           Maker  ...           NaN  ca. 1870–75   \n",
       "241  American  Maker|Designer  ...       |Female      1923–24   \n",
       "317  American           Maker  ...           NaN      1770–76   \n",
       "611   Mexican          Artist  ...           NaN     ca. 1650   \n",
       "\n",
       "    Object Begin Date Object End Date                            Medium  \\\n",
       "167              1640            1680                               Ash   \n",
       "201              1867            1875  Rosewood, prickly juniper veneer   \n",
       "241              1923            1924              Leaded Favrile glass   \n",
       "317              1770            1776                            Silver   \n",
       "611              1647            1650            Tin-glazed earthenware   \n",
       "\n",
       "                                            Dimensions  \\\n",
       "167  44 3/4 x 23 1/2 x 15 3/4 in. (113.7 x 59.7 x 4...   \n",
       "201     37 x 27 1/2 x 27 1/2 in. (94 x 69.9 x 69.9 cm)   \n",
       "241                   132 x 102 in. (335.3 x 259.1 cm)   \n",
       "317  11 3/16 x 14 7/16 x 11 3/8 in. (28.4 x 36.7 x ...   \n",
       "611                         Diam. 20 3/4 in. (52.7 cm)   \n",
       "\n",
       "                                Credit Line Classification  \\\n",
       "167      Gift of Mrs. J. Insley Blair, 1951      Furniture   \n",
       "201         Funds from various donors, 1970      Furniture   \n",
       "241       Gift of Robert W. de Forest, 1925          Glass   \n",
       "317              Morris K. Jesup Fund, 1954         Silver   \n",
       "611  Gift of Mrs. Robert W. de Forest, 1912       Ceramics   \n",
       "\n",
       "                                   Repository  \\\n",
       "167  Metropolitan Museum of Art, New York, NY   \n",
       "201  Metropolitan Museum of Art, New York, NY   \n",
       "241  Metropolitan Museum of Art, New York, NY   \n",
       "317  Metropolitan Museum of Art, New York, NY   \n",
       "611  Metropolitan Museum of Art, New York, NY   \n",
       "\n",
       "                                     Tags  \n",
       "167                                   NaN  \n",
       "201                                Sphinx  \n",
       "241  Windows|Waterfalls|Landscapes|Autumn  \n",
       "317                                   NaN  \n",
       "611                        Flowers|Basins  \n",
       "\n",
       "[5 rows x 23 columns]"
      ]
     },
     "execution_count": 524,
     "metadata": {},
     "output_type": "execute_result"
    }
   ],
   "source": [
    "highlights['Culture'] = commas\n",
    "highlights.head()"
   ]
  },
  {
   "cell_type": "code",
   "execution_count": 525,
   "metadata": {},
   "outputs": [],
   "source": [
    "na = ['Native American' if ('Native' in c) else c for c in highlights.Culture]\n",
    "highlights['Culture'] = na\n",
    "\n",
    "paren = [c.split('(')[0] if ('(' in c) else c for c in highlights.Culture]\n",
    "highlights['Culture'] = paren\n",
    "\n",
    "ors = [c.split(' or ')[0] if ' or ' in c else c for c in highlights.Culture]\n",
    "highlights['Culture'] = ors\n",
    "\n",
    "df = highlights.groupby(by='Culture', as_index=False)[['Object ID']].count().sort_values(by='Object ID', ascending=False)"
   ]
  },
  {
   "cell_type": "code",
   "execution_count": 526,
   "metadata": {},
   "outputs": [
    {
     "data": {
      "text/html": [
       "<div>\n",
       "<style scoped>\n",
       "    .dataframe tbody tr th:only-of-type {\n",
       "        vertical-align: middle;\n",
       "    }\n",
       "\n",
       "    .dataframe tbody tr th {\n",
       "        vertical-align: top;\n",
       "    }\n",
       "\n",
       "    .dataframe thead th {\n",
       "        text-align: right;\n",
       "    }\n",
       "</style>\n",
       "<table border=\"1\" class=\"dataframe\">\n",
       "  <thead>\n",
       "    <tr style=\"text-align: right;\">\n",
       "      <th></th>\n",
       "      <th>Culture</th>\n",
       "      <th>Object ID</th>\n",
       "    </tr>\n",
       "  </thead>\n",
       "  <tbody>\n",
       "    <tr>\n",
       "      <th>7</th>\n",
       "      <td>American</td>\n",
       "      <td>197</td>\n",
       "    </tr>\n",
       "    <tr>\n",
       "      <th>71</th>\n",
       "      <td>French</td>\n",
       "      <td>145</td>\n",
       "    </tr>\n",
       "    <tr>\n",
       "      <th>75</th>\n",
       "      <td>Greek</td>\n",
       "      <td>63</td>\n",
       "    </tr>\n",
       "    <tr>\n",
       "      <th>74</th>\n",
       "      <td>German</td>\n",
       "      <td>56</td>\n",
       "    </tr>\n",
       "    <tr>\n",
       "      <th>94</th>\n",
       "      <td>Italian</td>\n",
       "      <td>53</td>\n",
       "    </tr>\n",
       "    <tr>\n",
       "      <th>...</th>\n",
       "      <td>...</td>\n",
       "      <td>...</td>\n",
       "    </tr>\n",
       "    <tr>\n",
       "      <th>104</th>\n",
       "      <td>Korean</td>\n",
       "      <td>1</td>\n",
       "    </tr>\n",
       "    <tr>\n",
       "      <th>105</th>\n",
       "      <td>Kushan</td>\n",
       "      <td>1</td>\n",
       "    </tr>\n",
       "    <tr>\n",
       "      <th>106</th>\n",
       "      <td>Kwele peoples</td>\n",
       "      <td>1</td>\n",
       "    </tr>\n",
       "    <tr>\n",
       "      <th>107</th>\n",
       "      <td>Lambayeque</td>\n",
       "      <td>1</td>\n",
       "    </tr>\n",
       "    <tr>\n",
       "      <th>233</th>\n",
       "      <td>probably French</td>\n",
       "      <td>1</td>\n",
       "    </tr>\n",
       "  </tbody>\n",
       "</table>\n",
       "<p>234 rows × 2 columns</p>\n",
       "</div>"
      ],
      "text/plain": [
       "             Culture  Object ID\n",
       "7           American        197\n",
       "71            French        145\n",
       "75             Greek         63\n",
       "74            German         56\n",
       "94           Italian         53\n",
       "..               ...        ...\n",
       "104           Korean          1\n",
       "105           Kushan          1\n",
       "106    Kwele peoples          1\n",
       "107      Lambayeque           1\n",
       "233  probably French          1\n",
       "\n",
       "[234 rows x 2 columns]"
      ]
     },
     "execution_count": 526,
     "metadata": {},
     "output_type": "execute_result"
    }
   ],
   "source": [
    "df"
   ]
  },
  {
   "cell_type": "code",
   "execution_count": 527,
   "metadata": {},
   "outputs": [
    {
     "data": {
      "text/plain": [
       "array(['American', 'Mexican', 'Colombian; Popayán', 'German', 'Italian',\n",
       "       'French', 'Japanese', 'grip', 'British', 'Western European',\n",
       "       'Turkish', 'Colonial American', 'Byzantine', 'European', 'hilt',\n",
       "       'Spanish', 'Indian', 'Russian', 'Korea', 'China', 'Japan',\n",
       "       'Indonesia ', 'India', 'Eastern Tibet', 'India ',\n",
       "       'Southern Cambodia', 'Nepal', 'Pakistan ', 'Cambodia ',\n",
       "       'Eastern Central Asia', 'Central Asia', 'Western India',\n",
       "       'Sri Lanka ', 'Afghan', 'probably French', 'Swiss', 'Austrian',\n",
       "       'probably Austrian', 'Dutch', 'Netherlandish', 'Polish', 'Roman',\n",
       "       'Cypriot', 'Etruscan', 'Greek', 'Minoan', 'East Greek', 'Cycladic',\n",
       "       'Helladic', 'Northwest Anatolian', 'Moche', 'Aztec', 'Nasca-Wari',\n",
       "       'Eastern Nahua', 'New Georgia Island ', 'Lambayeque ',\n",
       "       'Solomon Islands', \"Hawai'i\", 'Olmec', 'Dogon peoples', 'Maya',\n",
       "       'Songye peoples', 'Belauan', 'Tiwanaku', 'Nasca', 'Ixtlán del Río',\n",
       "       'Tembladera', 'Fang peoples', 'Senufo peoples', 'Dan peoples',\n",
       "       'Bamum kingdom', 'Akan peoples', 'Sawos people', 'Elema people',\n",
       "       'Siane', 'Kerewa people', 'Abelam people', 'Kambot people',\n",
       "       'Maohi ', 'Bougainville', 'Morobe province',\n",
       "       'Torres Strait Islander', 'Yessan-Mayo people', 'Kwele peoples',\n",
       "       'Mossi peoples', 'Edo peoples', 'Bamana peoples', 'Kongo peoples',\n",
       "       'Ejagham peoples', 'Taíno', 'Wari', 'Initial Style', 'Teotihuacan',\n",
       "       \"Yup'ik\", 'Central Region', 'Remojadas', 'Southwest Malakula',\n",
       "       'Sentani people', 'Mangarevan people', \"Ha'apai Islands\",\n",
       "       'Maori people', 'Asmat people', 'Luba', 'Valdivia',\n",
       "       'Tolita-Tumaco', 'Middle Niger civilization', 'Sulka people',\n",
       "       'Southern New Ireland', 'Rapa Nui people', 'Moche-Wari',\n",
       "       'Toba Batak people', 'Ngadju', 'Chokwe peoples', 'Sapi-Portuguese',\n",
       "       'Lampung', 'Yoruba peoples', 'Chiriquí', 'Quimbaya', 'Paracas',\n",
       "       'Tigrinya peoples', 'Amhara peoples', 'Yami people', 'Chuquibamba',\n",
       "       'Punu peoples', 'Sakalava peoples', 'Cenderawasih Bay', 'Nage',\n",
       "       'Osage', 'Caroline Islands', 'Baule peoples', 'Parthian',\n",
       "       'Assyrian', 'Babylonian', 'Canaanite',\n",
       "       'Old Assyrian Trading Colony', 'Sumerian', 'Israelite',\n",
       "       'Achaemenid', 'Hittite', 'Hattian', 'Sasanian', 'Iran', 'Elamite',\n",
       "       'Nabataean', 'Indus', 'Halaf', 'Urartian',\n",
       "       'Bactria-Margiana Archaeological Complex', 'Alanic', 'Kushan',\n",
       "       'Scythian', 'Neo-Sumerian', 'Proto-Elamite', 'Hurrian', 'Akkadian',\n",
       "       'Venetian', 'Façon de Venise', 'South Netherlandish', 'Flemish',\n",
       "       'South Italian', 'South German', 'North French ', 'Anglo-Saxon',\n",
       "       'Upper Rhenish', 'North Italian', 'Late Roman', 'French ',\n",
       "       'Ottonian', 'East Germanic', 'Central Italian', 'Frankish',\n",
       "       'Carolingian', 'Celtic', 'Catalan', 'Bohemian', 'Chinese',\n",
       "       'Tibetan', 'Thai', 'Mandinka people', 'Native American',\n",
       "       'Ganda people', 'Italian ', 'Iranian ', 'Burmese', 'Javanese ',\n",
       "       'probably Chinese', 'Akan Ashanti people', 'Philippine ', 'Korean',\n",
       "       'Ekonda people ', 'Mangbetu', 'Belgian', 'Possibly Barwe People',\n",
       "       'Benin', 'Mayan', 'Norwegian', 'Hanoverian ',\n",
       "       'Paris: Officina Christiani Wecheli', 'Rome: Antonio Blado',\n",
       "       'Venice: Oddoni', \"Venice: Domenico de'Franceschi\",\n",
       "       'Milan: [s.n.]', 'Nuremberg : [s.n.]',\n",
       "       'Antwerp: Ex Officina Plantíníana', 'Anvers',\n",
       "       'Amsterdam : Jacob von Meursen',\n",
       "       'Venice: Presso Gio. Giacomo Hertz', 'Brescia: [s.n.]',\n",
       "       'Stockholm: Joh. Jacob Genath', 'London: printed by Geo. James',\n",
       "       'London: Thomas Chippendale', 'Newcastle: J. Smith',\n",
       "       'Campidonae: Rudolphum Dreherr',\n",
       "       'Presso Pietro Paolo Montignani-Mirabili', 'Paris: 1809–1829',\n",
       "       'London: J. Murray', 'London : F. G. Moon', 'Leipzig',\n",
       "       'Boston: J. R. Osgood', 'Paris: [privately printed]',\n",
       "       'New York: Harper Bros.', 'London: T. McLean', 'London: G. Bell',\n",
       "       'New York: [s.n.]', 'New York', 'New York: De Vinne Press',\n",
       "       'London: Chiswick Press', 'Hammersmith: Doves Press',\n",
       "       'London: J. M. Dent and Co.', 'Rutland & Tokyo', 'March 1919 ',\n",
       "       'New York: VVV', 'Minneconjou Lakota/ Teton Sioux',\n",
       "       'San Ildefonso'], dtype=object)"
      ]
     },
     "execution_count": 527,
     "metadata": {},
     "output_type": "execute_result"
    }
   ],
   "source": [
    "highlights['Culture'].unique()"
   ]
  },
  {
   "cell_type": "code",
   "execution_count": 528,
   "metadata": {},
   "outputs": [],
   "source": [
    "# making categories:\n",
    "near_east = ['Halaf', 'Sumerian', 'Proto-Elamite', 'Hattian', 'Northwest Anatolian', 'Akkadian',\n",
    "              'Hurrian', 'Neo-Sumerian', 'Old Assyrian Trading Colony', 'Babylonian', 'Elamite', 'Hittite', \n",
    "              'Canaanite', 'Assyrian', 'Iran', 'Israelite', 'Urartian', 'Cypriot', 'Achaemenid', 'Parthian', 'Nabataean',\n",
    "            'Pakistan', 'Sasanian', 'Turkish', 'Iranian ', 'Afghan']\n",
    "\n",
    "western = ['Cycladic', 'Minoan', 'Helladic', 'Greek', 'Etruscan', 'Celtic', 'East Greek', 'Roman',\n",
    "          'Byzantine', 'East Germanic', 'Frankish', 'Late Roman', 'Anglo-Saxon', 'Alanic', 'North Italian',\n",
    "          'Carolingian', 'European', 'Ottonian', 'Central Italian', 'South Italian', 'French', 'Spanish',\n",
    "          'Catalan', 'British', 'South Netherlandish', 'German', 'Italian', 'North French ', 'Western European',\n",
    "          'Austrian', 'Bohemian', 'Upper Rhenish', 'Netherlandish', 'French ', 'South German', 'Venetian',\n",
    "          'Flemish', 'Italian ', 'Façon de Venise', 'probably Austrian', 'American', 'Polish', 'Swiss',\n",
    "          'Dutch', 'probably French', 'Russian', 'Colonial American', 'Hanoverian ', 'Norwegian', 'Belgian', \n",
    "           'Southern New Ireland', \"Yup'ik\"]\n",
    "\n",
    "american = ['Valdivia', 'Olmec', 'Tembladera', 'Paracas', 'Tolita-Tumaco', 'Ixtlán del Río', 'Quimbaya', \n",
    "                 'Moche', 'Nasca', 'Teotihuacan', 'Maya', 'Wari', 'Tiwanaku', 'Mayan', 'Moche-Wari',\n",
    "                 'Remojadas', 'Lambayeque', 'Nasca-Wari', 'Taíno', 'Chiriquí', 'Eastern Nahua', 'Chuquibamba', \n",
    "                 'Aztec', 'Sapi-Portuguese', 'Mexican', 'Colombian; Popayán', 'Native American', 'Osage', 'Javanese ',\n",
    "           'Minneconjou Lakota/ Teton Sioux', 'San Ildefonso']\n",
    "\n",
    "asian = ['Indus', 'Bactria-Margiana Archaeological Complex', 'China', 'Scythian', 'Indonesia', 'India', 'Kushan',\n",
    "        'Japanese', 'India ', 'Korea', 'Southern Cambodia', 'Sri Lanka', 'Cambodia ', 'Eastern Central Asia', 'Japan', \n",
    "        'Nepal', 'Central Asia', 'Tibetan', 'Eastern Tibet', 'Chinese', 'Indian', 'Lampung', 'probably Chinese',\n",
    "        'Yami people', 'Nage', 'Sentani people', 'Toba Batak people', 'Thai', 'Burmese', 'Philippine ', 'Western India',\n",
    "        'Korean']\n",
    "\n",
    "pacific = ['Morobe province', \"Hawai'i\", \"Maohi \", 'Mangarevan people', \"Ha'apai Islands\", 'Maori people', \n",
    "           'Sawos people', 'Belauan', 'New Georgia Island ', 'Solomon Islands', 'Yessan-Mayo people', 'Bougainville',\n",
    "          'Torres Strait Islander', 'Kerewa people', 'Abelam people', 'Ngadju', 'Rapa Nui people', 'Caroline Islands',\n",
    "          'Cenderawasih Bay', 'Sulka people', 'Elema people', 'Southwest Malakula', 'Asmat people', \n",
    "          'Siane']\n",
    "           \n",
    "africa = ['Middle Niger civilization', 'Dogon peoples', 'Amhara peoples', 'Bamana peoples', 'Tigrinya peoples',\n",
    "         'Edo peoples', 'Sakalava peoples', 'Yoruba peoples', 'Akan peoples', 'Punu peoples', 'Bamum kingdom', \n",
    "         'Chokwe peoples', 'Kongo peoples', 'Baule peoples', 'Mossi peoples', 'Ejagham peoples', 'Fang peoples', \n",
    "          'Luba', 'Songye peoples', 'Kwele peoples', 'Senufo peoples', 'Kambot people', 'Benin', 'Mandinka people',\n",
    "         'Ganda people', 'Mangbetu', 'Possibly Barwe People', 'Dan peoples', 'Akan Ashanti people', 'Ekonda people ']\n",
    "\n",
    "lst = [near_east, western, american, asian, pacific, africa]\n"
   ]
  },
  {
   "cell_type": "code",
   "execution_count": 529,
   "metadata": {},
   "outputs": [
    {
     "name": "stdout",
     "output_type": "stream",
     "text": [
      "66\n",
      "688\n",
      "49\n",
      "100\n",
      "25\n",
      "41\n"
     ]
    }
   ],
   "source": [
    "near_east_sum = df[df['Culture'].isin(near_east)][\"Object ID\"].sum()\n",
    "for culture in lst:\n",
    "    print(df[df['Culture'].isin(culture)][\"Object ID\"].sum())"
   ]
  },
  {
   "cell_type": "code",
   "execution_count": 530,
   "metadata": {},
   "outputs": [
    {
     "data": {
      "text/html": [
       "<div>\n",
       "<style scoped>\n",
       "    .dataframe tbody tr th:only-of-type {\n",
       "        vertical-align: middle;\n",
       "    }\n",
       "\n",
       "    .dataframe tbody tr th {\n",
       "        vertical-align: top;\n",
       "    }\n",
       "\n",
       "    .dataframe thead th {\n",
       "        text-align: right;\n",
       "    }\n",
       "</style>\n",
       "<table border=\"1\" class=\"dataframe\">\n",
       "  <thead>\n",
       "    <tr style=\"text-align: right;\">\n",
       "      <th></th>\n",
       "      <th>Culture_circle</th>\n",
       "      <th>Highlight_Numbers</th>\n",
       "    </tr>\n",
       "  </thead>\n",
       "  <tbody>\n",
       "    <tr>\n",
       "      <th>0</th>\n",
       "      <td>Near Eastern</td>\n",
       "      <td>66</td>\n",
       "    </tr>\n",
       "    <tr>\n",
       "      <th>1</th>\n",
       "      <td>Western</td>\n",
       "      <td>687</td>\n",
       "    </tr>\n",
       "    <tr>\n",
       "      <th>2</th>\n",
       "      <td>American</td>\n",
       "      <td>49</td>\n",
       "    </tr>\n",
       "    <tr>\n",
       "      <th>3</th>\n",
       "      <td>Asian</td>\n",
       "      <td>100</td>\n",
       "    </tr>\n",
       "    <tr>\n",
       "      <th>4</th>\n",
       "      <td>Pacific</td>\n",
       "      <td>25</td>\n",
       "    </tr>\n",
       "    <tr>\n",
       "      <th>5</th>\n",
       "      <td>Africa</td>\n",
       "      <td>41</td>\n",
       "    </tr>\n",
       "  </tbody>\n",
       "</table>\n",
       "</div>"
      ],
      "text/plain": [
       "  Culture_circle  Highlight_Numbers\n",
       "0   Near Eastern                 66\n",
       "1        Western                687\n",
       "2       American                 49\n",
       "3          Asian                100\n",
       "4        Pacific                 25\n",
       "5         Africa                 41"
      ]
     },
     "execution_count": 530,
     "metadata": {},
     "output_type": "execute_result"
    }
   ],
   "source": [
    "highlights_by_culture = pd.DataFrame([\n",
    "    [\"Near Eastern\", 66], [\"Western\", 687], [\"American\", 49], [\"Asian\", 100], [\"Pacific\", 25], [\"Africa\", 41]], \n",
    "    columns = [\"Culture_circle\", \"Highlight_Numbers\"])\n",
    "highlights_by_culture"
   ]
  },
  {
   "cell_type": "code",
   "execution_count": 531,
   "metadata": {},
   "outputs": [],
   "source": [
    "# non-highlights\n",
    "nonhighlights = met[met['Is Highlight']==False]\n",
    "nonhighlights = nonhighlights.dropna(subset=['Culture'])\n",
    "commas = [c.split(',')[0] if ',' in c else c for c in nonhighlights.Culture]\n",
    "nonhighlights['Culture'] = commas\n",
    "na = ['Native American' if ('Native' in c) else c for c in nonhighlights.Culture]\n",
    "nonhighlights['Culture'] = na"
   ]
  },
  {
   "cell_type": "code",
   "execution_count": 532,
   "metadata": {},
   "outputs": [],
   "source": [
    "paren = [c.split('(')[0] if ('(' in c) else c for c in nonhighlights.Culture]\n",
    "nonhighlights['Culture'] = paren\n",
    "\n",
    "ors = [c.split(' or ')[0] if ' or ' in c else c for c in nonhighlights.Culture]\n",
    "nonhighlights['Culture'] = ors\n",
    "\n",
    "question = [c.split('?')[0].rstrip() if '?' in c else c for c in nonhighlights.Culture]\n",
    "nonhighlights['Culture'] = question\n",
    "\n",
    "possibly = [c.replace('possibly', '').strip() if 'ossibly' in c else c for c in nonhighlights.Culture]\n",
    "possibly = [c.replace('Possibly', '').strip() if 'Possibly' in c else c for c in possibly]\n",
    "nonhighlights['Culture'] = possibly\n",
    "\n",
    "slash = [c.split('/')[0] if '/' in c else c for c in nonhighlights.Culture]\n",
    "nonhighlights['Culture'] = slash\n",
    "\n",
    "semicolon = [c.split(';')[0] if ';' in c else c for c in nonhighlights.Culture]\n",
    "nonhighlights['Culture'] = semicolon\n",
    "\n",
    "probably = [c[9:] if 'robably' in c else c for c in nonhighlights.Culture]\n",
    "nonhighlights['Culture'] = probably\n",
    "\n",
    "data = nonhighlights.groupby(by='Culture', as_index=False)[['Object ID']].count().sort_values(by='Object ID', ascending=False)"
   ]
  },
  {
   "cell_type": "code",
   "execution_count": 533,
   "metadata": {},
   "outputs": [
    {
     "data": {
      "text/html": [
       "<div>\n",
       "<style scoped>\n",
       "    .dataframe tbody tr th:only-of-type {\n",
       "        vertical-align: middle;\n",
       "    }\n",
       "\n",
       "    .dataframe tbody tr th {\n",
       "        vertical-align: top;\n",
       "    }\n",
       "\n",
       "    .dataframe thead th {\n",
       "        text-align: right;\n",
       "    }\n",
       "</style>\n",
       "<table border=\"1\" class=\"dataframe\">\n",
       "  <thead>\n",
       "    <tr style=\"text-align: right;\">\n",
       "      <th></th>\n",
       "      <th>Culture</th>\n",
       "      <th>Object ID</th>\n",
       "    </tr>\n",
       "  </thead>\n",
       "  <tbody>\n",
       "    <tr>\n",
       "      <th>55</th>\n",
       "      <td>American</td>\n",
       "      <td>30762</td>\n",
       "    </tr>\n",
       "    <tr>\n",
       "      <th>674</th>\n",
       "      <td>French</td>\n",
       "      <td>23911</td>\n",
       "    </tr>\n",
       "    <tr>\n",
       "      <th>733</th>\n",
       "      <td>Greek</td>\n",
       "      <td>20720</td>\n",
       "    </tr>\n",
       "    <tr>\n",
       "      <th>911</th>\n",
       "      <td>Japan</td>\n",
       "      <td>16669</td>\n",
       "    </tr>\n",
       "    <tr>\n",
       "      <th>403</th>\n",
       "      <td>China</td>\n",
       "      <td>13471</td>\n",
       "    </tr>\n",
       "    <tr>\n",
       "      <th>...</th>\n",
       "      <td>...</td>\n",
       "      <td>...</td>\n",
       "    </tr>\n",
       "    <tr>\n",
       "      <th>1067</th>\n",
       "      <td>Liberian</td>\n",
       "      <td>1</td>\n",
       "    </tr>\n",
       "    <tr>\n",
       "      <th>1065</th>\n",
       "      <td>Liberia</td>\n",
       "      <td>1</td>\n",
       "    </tr>\n",
       "    <tr>\n",
       "      <th>1063</th>\n",
       "      <td>Levantine</td>\n",
       "      <td>1</td>\n",
       "    </tr>\n",
       "    <tr>\n",
       "      <th>1060</th>\n",
       "      <td>Leti</td>\n",
       "      <td>1</td>\n",
       "    </tr>\n",
       "    <tr>\n",
       "      <th>2211</th>\n",
       "      <td>western Queensland</td>\n",
       "      <td>1</td>\n",
       "    </tr>\n",
       "  </tbody>\n",
       "</table>\n",
       "<p>2212 rows × 2 columns</p>\n",
       "</div>"
      ],
      "text/plain": [
       "                 Culture  Object ID\n",
       "55              American      30762\n",
       "674               French      23911\n",
       "733                Greek      20720\n",
       "911                Japan      16669\n",
       "403                China      13471\n",
       "...                  ...        ...\n",
       "1067           Liberian           1\n",
       "1065            Liberia           1\n",
       "1063           Levantine          1\n",
       "1060                Leti          1\n",
       "2211  western Queensland          1\n",
       "\n",
       "[2212 rows x 2 columns]"
      ]
     },
     "execution_count": 533,
     "metadata": {},
     "output_type": "execute_result"
    }
   ],
   "source": [
    "data"
   ]
  },
  {
   "cell_type": "code",
   "execution_count": 534,
   "metadata": {},
   "outputs": [
    {
     "name": "stdout",
     "output_type": "stream",
     "text": [
      "7443\n",
      "128004\n",
      "2747\n",
      "42784\n",
      "819\n",
      "1102\n"
     ]
    }
   ],
   "source": [
    "for culture in lst:\n",
    "    print(data[data['Culture'].isin(culture)][\"Object ID\"].sum())"
   ]
  },
  {
   "cell_type": "code",
   "execution_count": 535,
   "metadata": {},
   "outputs": [],
   "source": [
    "highlights_by_culture['Non_Highlights'] = [data[data['Culture'].isin(culture)][\"Object ID\"].sum() for culture in lst]"
   ]
  },
  {
   "cell_type": "code",
   "execution_count": 536,
   "metadata": {},
   "outputs": [
    {
     "data": {
      "text/html": [
       "<div>\n",
       "<style scoped>\n",
       "    .dataframe tbody tr th:only-of-type {\n",
       "        vertical-align: middle;\n",
       "    }\n",
       "\n",
       "    .dataframe tbody tr th {\n",
       "        vertical-align: top;\n",
       "    }\n",
       "\n",
       "    .dataframe thead th {\n",
       "        text-align: right;\n",
       "    }\n",
       "</style>\n",
       "<table border=\"1\" class=\"dataframe\">\n",
       "  <thead>\n",
       "    <tr style=\"text-align: right;\">\n",
       "      <th></th>\n",
       "      <th>Culture_circle</th>\n",
       "      <th>Highlight_Numbers</th>\n",
       "      <th>Non_Highlights</th>\n",
       "    </tr>\n",
       "  </thead>\n",
       "  <tbody>\n",
       "    <tr>\n",
       "      <th>0</th>\n",
       "      <td>Near Eastern</td>\n",
       "      <td>66</td>\n",
       "      <td>7443</td>\n",
       "    </tr>\n",
       "    <tr>\n",
       "      <th>1</th>\n",
       "      <td>Western</td>\n",
       "      <td>687</td>\n",
       "      <td>128004</td>\n",
       "    </tr>\n",
       "    <tr>\n",
       "      <th>2</th>\n",
       "      <td>American</td>\n",
       "      <td>49</td>\n",
       "      <td>2747</td>\n",
       "    </tr>\n",
       "    <tr>\n",
       "      <th>3</th>\n",
       "      <td>Asian</td>\n",
       "      <td>100</td>\n",
       "      <td>42784</td>\n",
       "    </tr>\n",
       "    <tr>\n",
       "      <th>4</th>\n",
       "      <td>Pacific</td>\n",
       "      <td>25</td>\n",
       "      <td>819</td>\n",
       "    </tr>\n",
       "    <tr>\n",
       "      <th>5</th>\n",
       "      <td>Africa</td>\n",
       "      <td>41</td>\n",
       "      <td>1102</td>\n",
       "    </tr>\n",
       "  </tbody>\n",
       "</table>\n",
       "</div>"
      ],
      "text/plain": [
       "  Culture_circle  Highlight_Numbers  Non_Highlights\n",
       "0   Near Eastern                 66            7443\n",
       "1        Western                687          128004\n",
       "2       American                 49            2747\n",
       "3          Asian                100           42784\n",
       "4        Pacific                 25             819\n",
       "5         Africa                 41            1102"
      ]
     },
     "execution_count": 536,
     "metadata": {},
     "output_type": "execute_result"
    }
   ],
   "source": [
    "highlights_by_culture"
   ]
  },
  {
   "cell_type": "code",
   "execution_count": 537,
   "metadata": {},
   "outputs": [
    {
     "name": "stdout",
     "output_type": "stream",
     "text": [
      "T-Statistic: 468.6850797396923\n",
      "P-Value: 4.573465950706996e-99\n",
      "Degrees of Freedom: 5\n",
      "\n",
      "Expected Results\n",
      "[[3.95324446e+01 7.46946756e+03]\n",
      " [6.77516292e+02 1.28013484e+05]\n",
      " [1.47200313e+01 2.78127997e+03]\n",
      " [2.25770323e+02 4.26582297e+04]\n",
      " [4.44338571e+00 8.39556614e+02]\n",
      " [6.01752354e+00 1.13698248e+03]]\n"
     ]
    }
   ],
   "source": [
    "from scipy.stats import chi2_contingency\n",
    "to_test = highlights_by_culture.set_index('Culture_circle')\n",
    "chi2, p, ddof, expected_results = chi2_contingency(to_test)\n",
    "msg = \"T-Statistic: {}\\nP-Value: {}\\nDegrees of Freedom: {}\\n\"\n",
    "print(msg.format(chi2, p, ddof))\n",
    "print(\"Expected Results\")\n",
    "print(expected_results)"
   ]
  },
  {
   "cell_type": "code",
   "execution_count": 538,
   "metadata": {},
   "outputs": [
    {
     "data": {
      "text/html": [
       "<div>\n",
       "<style scoped>\n",
       "    .dataframe tbody tr th:only-of-type {\n",
       "        vertical-align: middle;\n",
       "    }\n",
       "\n",
       "    .dataframe tbody tr th {\n",
       "        vertical-align: top;\n",
       "    }\n",
       "\n",
       "    .dataframe thead th {\n",
       "        text-align: right;\n",
       "    }\n",
       "</style>\n",
       "<table border=\"1\" class=\"dataframe\">\n",
       "  <thead>\n",
       "    <tr style=\"text-align: right;\">\n",
       "      <th></th>\n",
       "      <th>Culture_circle</th>\n",
       "      <th>Highlight_Numbers</th>\n",
       "      <th>Non_Highlights</th>\n",
       "      <th>Percent_of_Highlights</th>\n",
       "      <th>Percent_of_NonHighlights</th>\n",
       "    </tr>\n",
       "  </thead>\n",
       "  <tbody>\n",
       "    <tr>\n",
       "      <th>0</th>\n",
       "      <td>Near Eastern</td>\n",
       "      <td>66</td>\n",
       "      <td>7443</td>\n",
       "      <td>6.818182</td>\n",
       "      <td>4.069459</td>\n",
       "    </tr>\n",
       "    <tr>\n",
       "      <th>1</th>\n",
       "      <td>Western</td>\n",
       "      <td>687</td>\n",
       "      <td>128004</td>\n",
       "      <td>70.971074</td>\n",
       "      <td>69.986167</td>\n",
       "    </tr>\n",
       "    <tr>\n",
       "      <th>2</th>\n",
       "      <td>American</td>\n",
       "      <td>49</td>\n",
       "      <td>2747</td>\n",
       "      <td>5.061983</td>\n",
       "      <td>1.501922</td>\n",
       "    </tr>\n",
       "    <tr>\n",
       "      <th>3</th>\n",
       "      <td>Asian</td>\n",
       "      <td>100</td>\n",
       "      <td>42784</td>\n",
       "      <td>10.330579</td>\n",
       "      <td>23.392145</td>\n",
       "    </tr>\n",
       "    <tr>\n",
       "      <th>4</th>\n",
       "      <td>Pacific</td>\n",
       "      <td>25</td>\n",
       "      <td>819</td>\n",
       "      <td>2.582645</td>\n",
       "      <td>0.447788</td>\n",
       "    </tr>\n",
       "    <tr>\n",
       "      <th>5</th>\n",
       "      <td>Africa</td>\n",
       "      <td>41</td>\n",
       "      <td>1102</td>\n",
       "      <td>4.235537</td>\n",
       "      <td>0.602518</td>\n",
       "    </tr>\n",
       "  </tbody>\n",
       "</table>\n",
       "</div>"
      ],
      "text/plain": [
       "  Culture_circle  Highlight_Numbers  Non_Highlights  Percent_of_Highlights  \\\n",
       "0   Near Eastern                 66            7443               6.818182   \n",
       "1        Western                687          128004              70.971074   \n",
       "2       American                 49            2747               5.061983   \n",
       "3          Asian                100           42784              10.330579   \n",
       "4        Pacific                 25             819               2.582645   \n",
       "5         Africa                 41            1102               4.235537   \n",
       "\n",
       "   Percent_of_NonHighlights  \n",
       "0                  4.069459  \n",
       "1                 69.986167  \n",
       "2                  1.501922  \n",
       "3                 23.392145  \n",
       "4                  0.447788  \n",
       "5                  0.602518  "
      ]
     },
     "execution_count": 538,
     "metadata": {},
     "output_type": "execute_result"
    }
   ],
   "source": [
    "highlights_by_culture['Percent_of_Highlights'] = highlights_by_culture['Highlight_Numbers']*100/highlights_by_culture['Highlight_Numbers'].sum()\n",
    "highlights_by_culture['Percent_of_NonHighlights'] = highlights_by_culture['Non_Highlights']*100/highlights_by_culture['Non_Highlights'].sum()\n",
    "highlights_by_culture"
   ]
  },
  {
   "cell_type": "markdown",
   "metadata": {},
   "source": [
    ">Conclusion: The P-Value is much lower than 0.5, so we can conclude that there is a significant difference between cultures in terms of number of works considered to be a highlight. (There is a cultural difference in terms of what is considered a highlight)"
   ]
  },
  {
   "cell_type": "code",
   "execution_count": 539,
   "metadata": {},
   "outputs": [],
   "source": [
    "# Some visualization"
   ]
  },
  {
   "cell_type": "code",
   "execution_count": 540,
   "metadata": {},
   "outputs": [
    {
     "data": {
      "text/plain": [
       "<seaborn.axisgrid.FacetGrid at 0x1b3c7c7290>"
      ]
     },
     "execution_count": 540,
     "metadata": {},
     "output_type": "execute_result"
    },
    {
     "data": {
      "image/png": "[encoded data removed]",
      "text/plain": [
       "<Figure size 360x360 with 1 Axes>"
      ]
     },
     "metadata": {
      "needs_background": "light"
     },
     "output_type": "display_data"
    }
   ],
   "source": [
    "sns.catplot(x='Culture_circle', y='Highlight_Numbers', data=highlights_by_culture, kind='bar')"
   ]
  },
  {
   "cell_type": "code",
   "execution_count": 541,
   "metadata": {},
   "outputs": [
    {
     "data": {
      "text/plain": [
       "<seaborn.axisgrid.FacetGrid at 0x1b3c75d7d0>"
      ]
     },
     "execution_count": 541,
     "metadata": {},
     "output_type": "execute_result"
    },
    {
     "data": {
      "image/png": "[encoded data removed]",
      "text/plain": [
       "<Figure size 360x360 with 1 Axes>"
      ]
     },
     "metadata": {
      "needs_background": "light"
     },
     "output_type": "display_data"
    }
   ],
   "source": [
    "sns.catplot(x='Culture_circle', y='Non_Highlights', data=highlights_by_culture, kind='bar')"
   ]
  },
  {
   "cell_type": "markdown",
   "metadata": {},
   "source": [
    "### 3. Machine Learning Model"
   ]
  },
  {
   "cell_type": "markdown",
   "metadata": {},
   "source": [
    "> Build a machine learning model that predicts whether an artwork is a timeline work (with historical significance) using logistic regression and randomized search"
   ]
  },
  {
   "cell_type": "code",
   "execution_count": 542,
   "metadata": {},
   "outputs": [],
   "source": [
    "met = met[met[\"Object Begin Date\"].notnull() \n",
    "          & ((met[\"Object Begin Date\"] != 0) \n",
    "             | (met[\"Object End Date\"] != 0)) \n",
    "          & ((met[\"Object Begin Date\"] <= 2020) \n",
    "             | (met[\"Object End Date\"] <= 2020))].sort_values(by=\"Object Begin Date\", ascending=True)"
   ]
  },
  {
   "cell_type": "code",
   "execution_count": 543,
   "metadata": {},
   "outputs": [
    {
     "data": {
      "text/plain": [
       "(473263, 23)"
      ]
     },
     "execution_count": 543,
     "metadata": {},
     "output_type": "execute_result"
    }
   ],
   "source": [
    "met.shape"
   ]
  },
  {
   "cell_type": "code",
   "execution_count": 544,
   "metadata": {},
   "outputs": [
    {
     "data": {
      "text/plain": [
       "Index(['Is Highlight', 'Is Public Domain', 'Is Timeline Work', 'Object ID',\n",
       "       'Department', 'AccessionYear', 'Object Name', 'Title', 'Culture',\n",
       "       'Artist Role', 'Artist Display Name', 'Artist Begin Date',\n",
       "       'Artist End Date', 'Artist Gender', 'Object Date', 'Object Begin Date',\n",
       "       'Object End Date', 'Medium', 'Dimensions', 'Credit Line',\n",
       "       'Classification', 'Repository', 'Tags'],\n",
       "      dtype='object')"
      ]
     },
     "execution_count": 544,
     "metadata": {},
     "output_type": "execute_result"
    }
   ],
   "source": [
    "met.columns"
   ]
  },
  {
   "cell_type": "code",
   "execution_count": 545,
   "metadata": {},
   "outputs": [],
   "source": [
    "met_data = met[[\"Is Highlight\", \"Is Public Domain\", \"Is Timeline Work\", \"Department\", \"AccessionYear\", \"Culture\", \"Credit Line\"]]"
   ]
  },
  {
   "cell_type": "code",
   "execution_count": 546,
   "metadata": {
    "scrolled": true
   },
   "outputs": [
    {
     "data": {
      "text/html": [
       "<div>\n",
       "<style scoped>\n",
       "    .dataframe tbody tr th:only-of-type {\n",
       "        vertical-align: middle;\n",
       "    }\n",
       "\n",
       "    .dataframe tbody tr th {\n",
       "        vertical-align: top;\n",
       "    }\n",
       "\n",
       "    .dataframe thead th {\n",
       "        text-align: right;\n",
       "    }\n",
       "</style>\n",
       "<table border=\"1\" class=\"dataframe\">\n",
       "  <thead>\n",
       "    <tr style=\"text-align: right;\">\n",
       "      <th></th>\n",
       "      <th>Is Highlight</th>\n",
       "      <th>Is Public Domain</th>\n",
       "      <th>Is Timeline Work</th>\n",
       "      <th>Department</th>\n",
       "      <th>AccessionYear</th>\n",
       "      <th>Culture</th>\n",
       "      <th>Credit Line</th>\n",
       "    </tr>\n",
       "  </thead>\n",
       "  <tbody>\n",
       "    <tr>\n",
       "      <th>363928</th>\n",
       "      <td>False</td>\n",
       "      <td>False</td>\n",
       "      <td>True</td>\n",
       "      <td>Egyptian Art</td>\n",
       "      <td>1906</td>\n",
       "      <td>NaN</td>\n",
       "      <td>Gift of C. T. Currelly, 1906</td>\n",
       "    </tr>\n",
       "    <tr>\n",
       "      <th>363920</th>\n",
       "      <td>False</td>\n",
       "      <td>False</td>\n",
       "      <td>True</td>\n",
       "      <td>Egyptian Art</td>\n",
       "      <td>1906</td>\n",
       "      <td>NaN</td>\n",
       "      <td>Gift of C. T. Currelly, 1906</td>\n",
       "    </tr>\n",
       "    <tr>\n",
       "      <th>470109</th>\n",
       "      <td>False</td>\n",
       "      <td>False</td>\n",
       "      <td>True</td>\n",
       "      <td>Arms and Armor</td>\n",
       "      <td>1999</td>\n",
       "      <td>Acheulean</td>\n",
       "      <td>Purchase, Friends of Arms and Armor Gifts, 2019</td>\n",
       "    </tr>\n",
       "    <tr>\n",
       "      <th>363916</th>\n",
       "      <td>False</td>\n",
       "      <td>False</td>\n",
       "      <td>True</td>\n",
       "      <td>Egyptian Art</td>\n",
       "      <td>1906</td>\n",
       "      <td>NaN</td>\n",
       "      <td>Gift of C. T. Currelly, 1906</td>\n",
       "    </tr>\n",
       "    <tr>\n",
       "      <th>363918</th>\n",
       "      <td>False</td>\n",
       "      <td>False</td>\n",
       "      <td>True</td>\n",
       "      <td>Egyptian Art</td>\n",
       "      <td>1906</td>\n",
       "      <td>NaN</td>\n",
       "      <td>Gift of C. T. Currelly, 1906</td>\n",
       "    </tr>\n",
       "  </tbody>\n",
       "</table>\n",
       "</div>"
      ],
      "text/plain": [
       "        Is Highlight  Is Public Domain  Is Timeline Work      Department  \\\n",
       "363928         False             False              True    Egyptian Art   \n",
       "363920         False             False              True    Egyptian Art   \n",
       "470109         False             False              True  Arms and Armor   \n",
       "363916         False             False              True    Egyptian Art   \n",
       "363918         False             False              True    Egyptian Art   \n",
       "\n",
       "       AccessionYear    Culture  \\\n",
       "363928          1906        NaN   \n",
       "363920          1906        NaN   \n",
       "470109          1999  Acheulean   \n",
       "363916          1906        NaN   \n",
       "363918          1906        NaN   \n",
       "\n",
       "                                            Credit Line  \n",
       "363928                     Gift of C. T. Currelly, 1906  \n",
       "363920                     Gift of C. T. Currelly, 1906  \n",
       "470109  Purchase, Friends of Arms and Armor Gifts, 2019  \n",
       "363916                     Gift of C. T. Currelly, 1906  \n",
       "363918                     Gift of C. T. Currelly, 1906  "
      ]
     },
     "execution_count": 546,
     "metadata": {},
     "output_type": "execute_result"
    }
   ],
   "source": [
    "met_data.head()"
   ]
  },
  {
   "cell_type": "code",
   "execution_count": 547,
   "metadata": {},
   "outputs": [],
   "source": [
    "met_data = met_data.dropna()"
   ]
  },
  {
   "cell_type": "code",
   "execution_count": 548,
   "metadata": {
    "scrolled": true
   },
   "outputs": [
    {
     "data": {
      "text/plain": [
       "(204365, 7)"
      ]
     },
     "execution_count": 548,
     "metadata": {},
     "output_type": "execute_result"
    }
   ],
   "source": [
    "met_data.shape"
   ]
  },
  {
   "cell_type": "code",
   "execution_count": 549,
   "metadata": {
    "scrolled": false
   },
   "outputs": [
    {
     "data": {
      "text/plain": [
       "array([1999, 1912, 2015, 1953, 1908, 1994, 1950, 1924, 1917, 1874, 1911,\n",
       "       1913, 1949, 1881, 1895, 1889, 1907, 1898, 1900, 1904, 1905, 1906,\n",
       "       1896, 1967, 1897, 1964, 1910, 1941, 1909, 1926, 1920, 1923, 1929,\n",
       "       1928, 1922, 1925, 1984, 1930, 1962, 1892, 1963, 1986, 1988, 1985,\n",
       "       1983, 1948, 2011, 1938, 1976, 2013, 2004, 1972, 1978, 1951, 1956,\n",
       "       1921, 2001, 1959, 1973, 1894, 1957, 1939, 1952, 1946, 2003, 1992,\n",
       "       1987, 1989, 1975, 2009, 2002, 1958, 1945, 1995, 1979, 1947, 1996,\n",
       "       1966, 1955, 1980, 1935, 1993, 2007, 1914, 1940, 1997, 1934, 2005,\n",
       "       1932, 1960, 1977, 1969, 1927, 1943, 1954, 1968, 1974, 1933, 1918,\n",
       "       1991, 2008, 1970, 1886, 1971, 1981, 1982, 1965, 2010, 1899, 1942,\n",
       "       1961, 1998, 1902, 1936, 1893, 1937, 2014, 2000, 2018, 1990, 2019,\n",
       "       2006, 1931, 1891, 1890, 2017, 1916, 1875, 1884, 1919, 1944, 2016,\n",
       "       1915, 1903, 1901, 1876, 1885, 1879, 2012, 1888, 1882, 1870, 1877,\n",
       "       1887, 1873, 2020, 1883, 1880, 1872])"
      ]
     },
     "execution_count": 549,
     "metadata": {},
     "output_type": "execute_result"
    }
   ],
   "source": [
    "met_data = met_data.astype({\"AccessionYear\": int})\n",
    "met_data[\"AccessionYear\"].unique()"
   ]
  },
  {
   "cell_type": "code",
   "execution_count": 550,
   "metadata": {
    "scrolled": false
   },
   "outputs": [
    {
     "data": {
      "text/html": [
       "<div>\n",
       "<style scoped>\n",
       "    .dataframe tbody tr th:only-of-type {\n",
       "        vertical-align: middle;\n",
       "    }\n",
       "\n",
       "    .dataframe tbody tr th {\n",
       "        vertical-align: top;\n",
       "    }\n",
       "\n",
       "    .dataframe thead th {\n",
       "        text-align: right;\n",
       "    }\n",
       "</style>\n",
       "<table border=\"1\" class=\"dataframe\">\n",
       "  <thead>\n",
       "    <tr style=\"text-align: right;\">\n",
       "      <th></th>\n",
       "      <th>Is Highlight</th>\n",
       "      <th>Is Public Domain</th>\n",
       "      <th>Is Timeline Work</th>\n",
       "      <th>Department</th>\n",
       "      <th>AccessionYear</th>\n",
       "      <th>Culture</th>\n",
       "      <th>Credit Line</th>\n",
       "    </tr>\n",
       "  </thead>\n",
       "  <tbody>\n",
       "    <tr>\n",
       "      <th>470109</th>\n",
       "      <td>False</td>\n",
       "      <td>False</td>\n",
       "      <td>True</td>\n",
       "      <td>Arms and Armor</td>\n",
       "      <td>1999</td>\n",
       "      <td>Acheulean</td>\n",
       "      <td>Purchase, Friends of Arms and Armor Gifts, 2019</td>\n",
       "    </tr>\n",
       "    <tr>\n",
       "      <th>17570</th>\n",
       "      <td>False</td>\n",
       "      <td>False</td>\n",
       "      <td>False</td>\n",
       "      <td>Arms and Armor</td>\n",
       "      <td>1912</td>\n",
       "      <td>Japanese</td>\n",
       "      <td>Rogers Fund, 1912</td>\n",
       "    </tr>\n",
       "    <tr>\n",
       "      <th>17569</th>\n",
       "      <td>False</td>\n",
       "      <td>False</td>\n",
       "      <td>False</td>\n",
       "      <td>Arms and Armor</td>\n",
       "      <td>1912</td>\n",
       "      <td>Japanese</td>\n",
       "      <td>Rogers Fund, 1912\\r\\n</td>\n",
       "    </tr>\n",
       "    <tr>\n",
       "      <th>45669</th>\n",
       "      <td>False</td>\n",
       "      <td>False</td>\n",
       "      <td>True</td>\n",
       "      <td>Asian Art</td>\n",
       "      <td>2015</td>\n",
       "      <td>Japan</td>\n",
       "      <td>Mary Griggs Burke Collection, Gift of the Mary...</td>\n",
       "    </tr>\n",
       "    <tr>\n",
       "      <th>198722</th>\n",
       "      <td>False</td>\n",
       "      <td>False</td>\n",
       "      <td>True</td>\n",
       "      <td>Ancient Near Eastern Art</td>\n",
       "      <td>1953</td>\n",
       "      <td>Natufian</td>\n",
       "      <td>Gift of H. Dunscombe Colt, 1953</td>\n",
       "    </tr>\n",
       "  </tbody>\n",
       "</table>\n",
       "</div>"
      ],
      "text/plain": [
       "        Is Highlight  Is Public Domain  Is Timeline Work  \\\n",
       "470109         False             False              True   \n",
       "17570          False             False             False   \n",
       "17569          False             False             False   \n",
       "45669          False             False              True   \n",
       "198722         False             False              True   \n",
       "\n",
       "                      Department  AccessionYear    Culture  \\\n",
       "470109            Arms and Armor           1999  Acheulean   \n",
       "17570             Arms and Armor           1912   Japanese   \n",
       "17569             Arms and Armor           1912   Japanese   \n",
       "45669                  Asian Art           2015      Japan   \n",
       "198722  Ancient Near Eastern Art           1953   Natufian   \n",
       "\n",
       "                                              Credit Line  \n",
       "470109    Purchase, Friends of Arms and Armor Gifts, 2019  \n",
       "17570                                   Rogers Fund, 1912  \n",
       "17569                               Rogers Fund, 1912\\r\\n  \n",
       "45669   Mary Griggs Burke Collection, Gift of the Mary...  \n",
       "198722                    Gift of H. Dunscombe Colt, 1953  "
      ]
     },
     "execution_count": 550,
     "metadata": {},
     "output_type": "execute_result"
    }
   ],
   "source": [
    "met_data.head()"
   ]
  },
  {
   "cell_type": "code",
   "execution_count": 551,
   "metadata": {},
   "outputs": [],
   "source": [
    "met_data[[\"Is Highlight\", \"Is Public Domain\", \"Is Timeline Work\"]] = met_data[[\"Is Highlight\", \"Is Public Domain\", \"Is Timeline Work\"]] * 1"
   ]
  },
  {
   "cell_type": "code",
   "execution_count": 552,
   "metadata": {},
   "outputs": [
    {
     "data": {
      "text/html": [
       "<div>\n",
       "<style scoped>\n",
       "    .dataframe tbody tr th:only-of-type {\n",
       "        vertical-align: middle;\n",
       "    }\n",
       "\n",
       "    .dataframe tbody tr th {\n",
       "        vertical-align: top;\n",
       "    }\n",
       "\n",
       "    .dataframe thead th {\n",
       "        text-align: right;\n",
       "    }\n",
       "</style>\n",
       "<table border=\"1\" class=\"dataframe\">\n",
       "  <thead>\n",
       "    <tr style=\"text-align: right;\">\n",
       "      <th></th>\n",
       "      <th>Is Highlight</th>\n",
       "      <th>Is Public Domain</th>\n",
       "      <th>Is Timeline Work</th>\n",
       "      <th>Department</th>\n",
       "      <th>AccessionYear</th>\n",
       "      <th>Culture</th>\n",
       "      <th>Credit Line</th>\n",
       "    </tr>\n",
       "  </thead>\n",
       "  <tbody>\n",
       "    <tr>\n",
       "      <th>470109</th>\n",
       "      <td>0</td>\n",
       "      <td>0</td>\n",
       "      <td>1</td>\n",
       "      <td>Arms and Armor</td>\n",
       "      <td>1999</td>\n",
       "      <td>Acheulean</td>\n",
       "      <td>Purchase, Friends of Arms and Armor Gifts, 2019</td>\n",
       "    </tr>\n",
       "    <tr>\n",
       "      <th>17570</th>\n",
       "      <td>0</td>\n",
       "      <td>0</td>\n",
       "      <td>0</td>\n",
       "      <td>Arms and Armor</td>\n",
       "      <td>1912</td>\n",
       "      <td>Japanese</td>\n",
       "      <td>Rogers Fund, 1912</td>\n",
       "    </tr>\n",
       "    <tr>\n",
       "      <th>17569</th>\n",
       "      <td>0</td>\n",
       "      <td>0</td>\n",
       "      <td>0</td>\n",
       "      <td>Arms and Armor</td>\n",
       "      <td>1912</td>\n",
       "      <td>Japanese</td>\n",
       "      <td>Rogers Fund, 1912\\r\\n</td>\n",
       "    </tr>\n",
       "    <tr>\n",
       "      <th>45669</th>\n",
       "      <td>0</td>\n",
       "      <td>0</td>\n",
       "      <td>1</td>\n",
       "      <td>Asian Art</td>\n",
       "      <td>2015</td>\n",
       "      <td>Japan</td>\n",
       "      <td>Mary Griggs Burke Collection, Gift of the Mary...</td>\n",
       "    </tr>\n",
       "    <tr>\n",
       "      <th>198722</th>\n",
       "      <td>0</td>\n",
       "      <td>0</td>\n",
       "      <td>1</td>\n",
       "      <td>Ancient Near Eastern Art</td>\n",
       "      <td>1953</td>\n",
       "      <td>Natufian</td>\n",
       "      <td>Gift of H. Dunscombe Colt, 1953</td>\n",
       "    </tr>\n",
       "  </tbody>\n",
       "</table>\n",
       "</div>"
      ],
      "text/plain": [
       "        Is Highlight  Is Public Domain  Is Timeline Work  \\\n",
       "470109             0                 0                 1   \n",
       "17570              0                 0                 0   \n",
       "17569              0                 0                 0   \n",
       "45669              0                 0                 1   \n",
       "198722             0                 0                 1   \n",
       "\n",
       "                      Department  AccessionYear    Culture  \\\n",
       "470109            Arms and Armor           1999  Acheulean   \n",
       "17570             Arms and Armor           1912   Japanese   \n",
       "17569             Arms and Armor           1912   Japanese   \n",
       "45669                  Asian Art           2015      Japan   \n",
       "198722  Ancient Near Eastern Art           1953   Natufian   \n",
       "\n",
       "                                              Credit Line  \n",
       "470109    Purchase, Friends of Arms and Armor Gifts, 2019  \n",
       "17570                                   Rogers Fund, 1912  \n",
       "17569                               Rogers Fund, 1912\\r\\n  \n",
       "45669   Mary Griggs Burke Collection, Gift of the Mary...  \n",
       "198722                    Gift of H. Dunscombe Colt, 1953  "
      ]
     },
     "execution_count": 552,
     "metadata": {},
     "output_type": "execute_result"
    }
   ],
   "source": [
    "met_data.head()"
   ]
  },
  {
   "cell_type": "code",
   "execution_count": 553,
   "metadata": {},
   "outputs": [],
   "source": [
    "department_dummy = pd.get_dummies(met_data[\"Department\"], drop_first=True)"
   ]
  },
  {
   "cell_type": "code",
   "execution_count": 554,
   "metadata": {},
   "outputs": [
    {
     "data": {
      "text/html": [
       "<div>\n",
       "<style scoped>\n",
       "    .dataframe tbody tr th:only-of-type {\n",
       "        vertical-align: middle;\n",
       "    }\n",
       "\n",
       "    .dataframe tbody tr th {\n",
       "        vertical-align: top;\n",
       "    }\n",
       "\n",
       "    .dataframe thead th {\n",
       "        text-align: right;\n",
       "    }\n",
       "</style>\n",
       "<table border=\"1\" class=\"dataframe\">\n",
       "  <thead>\n",
       "    <tr style=\"text-align: right;\">\n",
       "      <th></th>\n",
       "      <th>Arms and Armor</th>\n",
       "      <th>Arts of Africa, Oceania, and the Americas</th>\n",
       "      <th>Asian Art</th>\n",
       "      <th>Costume Institute</th>\n",
       "      <th>European Sculpture and Decorative Arts</th>\n",
       "      <th>Greek and Roman Art</th>\n",
       "      <th>Medieval Art</th>\n",
       "      <th>Modern and Contemporary Art</th>\n",
       "      <th>Musical Instruments</th>\n",
       "      <th>Robert Lehman Collection</th>\n",
       "      <th>The American Wing</th>\n",
       "      <th>The Cloisters</th>\n",
       "    </tr>\n",
       "  </thead>\n",
       "  <tbody>\n",
       "    <tr>\n",
       "      <th>470109</th>\n",
       "      <td>1</td>\n",
       "      <td>0</td>\n",
       "      <td>0</td>\n",
       "      <td>0</td>\n",
       "      <td>0</td>\n",
       "      <td>0</td>\n",
       "      <td>0</td>\n",
       "      <td>0</td>\n",
       "      <td>0</td>\n",
       "      <td>0</td>\n",
       "      <td>0</td>\n",
       "      <td>0</td>\n",
       "    </tr>\n",
       "    <tr>\n",
       "      <th>17570</th>\n",
       "      <td>1</td>\n",
       "      <td>0</td>\n",
       "      <td>0</td>\n",
       "      <td>0</td>\n",
       "      <td>0</td>\n",
       "      <td>0</td>\n",
       "      <td>0</td>\n",
       "      <td>0</td>\n",
       "      <td>0</td>\n",
       "      <td>0</td>\n",
       "      <td>0</td>\n",
       "      <td>0</td>\n",
       "    </tr>\n",
       "    <tr>\n",
       "      <th>17569</th>\n",
       "      <td>1</td>\n",
       "      <td>0</td>\n",
       "      <td>0</td>\n",
       "      <td>0</td>\n",
       "      <td>0</td>\n",
       "      <td>0</td>\n",
       "      <td>0</td>\n",
       "      <td>0</td>\n",
       "      <td>0</td>\n",
       "      <td>0</td>\n",
       "      <td>0</td>\n",
       "      <td>0</td>\n",
       "    </tr>\n",
       "    <tr>\n",
       "      <th>45669</th>\n",
       "      <td>0</td>\n",
       "      <td>0</td>\n",
       "      <td>1</td>\n",
       "      <td>0</td>\n",
       "      <td>0</td>\n",
       "      <td>0</td>\n",
       "      <td>0</td>\n",
       "      <td>0</td>\n",
       "      <td>0</td>\n",
       "      <td>0</td>\n",
       "      <td>0</td>\n",
       "      <td>0</td>\n",
       "    </tr>\n",
       "    <tr>\n",
       "      <th>198722</th>\n",
       "      <td>0</td>\n",
       "      <td>0</td>\n",
       "      <td>0</td>\n",
       "      <td>0</td>\n",
       "      <td>0</td>\n",
       "      <td>0</td>\n",
       "      <td>0</td>\n",
       "      <td>0</td>\n",
       "      <td>0</td>\n",
       "      <td>0</td>\n",
       "      <td>0</td>\n",
       "      <td>0</td>\n",
       "    </tr>\n",
       "  </tbody>\n",
       "</table>\n",
       "</div>"
      ],
      "text/plain": [
       "        Arms and Armor  Arts of Africa, Oceania, and the Americas  Asian Art  \\\n",
       "470109               1                                          0          0   \n",
       "17570                1                                          0          0   \n",
       "17569                1                                          0          0   \n",
       "45669                0                                          0          1   \n",
       "198722               0                                          0          0   \n",
       "\n",
       "        Costume Institute  European Sculpture and Decorative Arts  \\\n",
       "470109                  0                                       0   \n",
       "17570                   0                                       0   \n",
       "17569                   0                                       0   \n",
       "45669                   0                                       0   \n",
       "198722                  0                                       0   \n",
       "\n",
       "        Greek and Roman Art  Medieval Art  Modern and Contemporary Art  \\\n",
       "470109                    0             0                            0   \n",
       "17570                     0             0                            0   \n",
       "17569                     0             0                            0   \n",
       "45669                     0             0                            0   \n",
       "198722                    0             0                            0   \n",
       "\n",
       "        Musical Instruments  Robert Lehman Collection  The American Wing  \\\n",
       "470109                    0                         0                  0   \n",
       "17570                     0                         0                  0   \n",
       "17569                     0                         0                  0   \n",
       "45669                     0                         0                  0   \n",
       "198722                    0                         0                  0   \n",
       "\n",
       "        The Cloisters  \n",
       "470109              0  \n",
       "17570               0  \n",
       "17569               0  \n",
       "45669               0  \n",
       "198722              0  "
      ]
     },
     "execution_count": 554,
     "metadata": {},
     "output_type": "execute_result"
    }
   ],
   "source": [
    "department_dummy.head()"
   ]
  },
  {
   "cell_type": "code",
   "execution_count": 555,
   "metadata": {},
   "outputs": [
    {
     "data": {
      "text/plain": [
       "array(['Acheulean', 'Japanese', 'Japan', ..., 'Dominican Republic',\n",
       "       'Taiwan', 'Afro-Ecuadorian'], dtype=object)"
      ]
     },
     "execution_count": 555,
     "metadata": {},
     "output_type": "execute_result"
    }
   ],
   "source": [
    "met_data[\"Culture\"].unique()"
   ]
  },
  {
   "cell_type": "code",
   "execution_count": 556,
   "metadata": {},
   "outputs": [],
   "source": [
    "met_test = met_data[met_data['Culture'].isin(culture)]"
   ]
  },
  {
   "cell_type": "code",
   "execution_count": 557,
   "metadata": {},
   "outputs": [
    {
     "data": {
      "text/html": [
       "<div>\n",
       "<style scoped>\n",
       "    .dataframe tbody tr th:only-of-type {\n",
       "        vertical-align: middle;\n",
       "    }\n",
       "\n",
       "    .dataframe tbody tr th {\n",
       "        vertical-align: top;\n",
       "    }\n",
       "\n",
       "    .dataframe thead th {\n",
       "        text-align: right;\n",
       "    }\n",
       "</style>\n",
       "<table border=\"1\" class=\"dataframe\">\n",
       "  <thead>\n",
       "    <tr style=\"text-align: right;\">\n",
       "      <th></th>\n",
       "      <th>Akan peoples</th>\n",
       "      <th>Amhara peoples</th>\n",
       "      <th>Bamana peoples</th>\n",
       "      <th>Bamum kingdom</th>\n",
       "      <th>Baule peoples</th>\n",
       "      <th>Benin</th>\n",
       "      <th>Chokwe peoples</th>\n",
       "      <th>Dan peoples</th>\n",
       "      <th>Dogon peoples</th>\n",
       "      <th>Edo peoples</th>\n",
       "      <th>...</th>\n",
       "      <th>Mangbetu</th>\n",
       "      <th>Middle Niger civilization</th>\n",
       "      <th>Mossi peoples</th>\n",
       "      <th>Possibly Barwe People</th>\n",
       "      <th>Punu peoples</th>\n",
       "      <th>Sakalava peoples</th>\n",
       "      <th>Senufo peoples</th>\n",
       "      <th>Songye peoples</th>\n",
       "      <th>Tigrinya peoples</th>\n",
       "      <th>Yoruba peoples</th>\n",
       "    </tr>\n",
       "  </thead>\n",
       "  <tbody>\n",
       "    <tr>\n",
       "      <th>447927</th>\n",
       "      <td>0</td>\n",
       "      <td>1</td>\n",
       "      <td>0</td>\n",
       "      <td>0</td>\n",
       "      <td>0</td>\n",
       "      <td>0</td>\n",
       "      <td>0</td>\n",
       "      <td>0</td>\n",
       "      <td>0</td>\n",
       "      <td>0</td>\n",
       "      <td>...</td>\n",
       "      <td>0</td>\n",
       "      <td>0</td>\n",
       "      <td>0</td>\n",
       "      <td>0</td>\n",
       "      <td>0</td>\n",
       "      <td>0</td>\n",
       "      <td>0</td>\n",
       "      <td>0</td>\n",
       "      <td>0</td>\n",
       "      <td>0</td>\n",
       "    </tr>\n",
       "    <tr>\n",
       "      <th>194945</th>\n",
       "      <td>0</td>\n",
       "      <td>0</td>\n",
       "      <td>0</td>\n",
       "      <td>0</td>\n",
       "      <td>0</td>\n",
       "      <td>0</td>\n",
       "      <td>0</td>\n",
       "      <td>0</td>\n",
       "      <td>0</td>\n",
       "      <td>0</td>\n",
       "      <td>...</td>\n",
       "      <td>0</td>\n",
       "      <td>1</td>\n",
       "      <td>0</td>\n",
       "      <td>0</td>\n",
       "      <td>0</td>\n",
       "      <td>0</td>\n",
       "      <td>0</td>\n",
       "      <td>0</td>\n",
       "      <td>0</td>\n",
       "      <td>0</td>\n",
       "    </tr>\n",
       "    <tr>\n",
       "      <th>194946</th>\n",
       "      <td>0</td>\n",
       "      <td>0</td>\n",
       "      <td>0</td>\n",
       "      <td>0</td>\n",
       "      <td>0</td>\n",
       "      <td>0</td>\n",
       "      <td>0</td>\n",
       "      <td>0</td>\n",
       "      <td>0</td>\n",
       "      <td>0</td>\n",
       "      <td>...</td>\n",
       "      <td>0</td>\n",
       "      <td>1</td>\n",
       "      <td>0</td>\n",
       "      <td>0</td>\n",
       "      <td>0</td>\n",
       "      <td>0</td>\n",
       "      <td>0</td>\n",
       "      <td>0</td>\n",
       "      <td>0</td>\n",
       "      <td>0</td>\n",
       "    </tr>\n",
       "    <tr>\n",
       "      <th>194947</th>\n",
       "      <td>0</td>\n",
       "      <td>0</td>\n",
       "      <td>0</td>\n",
       "      <td>0</td>\n",
       "      <td>0</td>\n",
       "      <td>0</td>\n",
       "      <td>0</td>\n",
       "      <td>0</td>\n",
       "      <td>0</td>\n",
       "      <td>0</td>\n",
       "      <td>...</td>\n",
       "      <td>0</td>\n",
       "      <td>1</td>\n",
       "      <td>0</td>\n",
       "      <td>0</td>\n",
       "      <td>0</td>\n",
       "      <td>0</td>\n",
       "      <td>0</td>\n",
       "      <td>0</td>\n",
       "      <td>0</td>\n",
       "      <td>0</td>\n",
       "    </tr>\n",
       "    <tr>\n",
       "      <th>194949</th>\n",
       "      <td>0</td>\n",
       "      <td>0</td>\n",
       "      <td>0</td>\n",
       "      <td>0</td>\n",
       "      <td>0</td>\n",
       "      <td>0</td>\n",
       "      <td>0</td>\n",
       "      <td>0</td>\n",
       "      <td>0</td>\n",
       "      <td>0</td>\n",
       "      <td>...</td>\n",
       "      <td>0</td>\n",
       "      <td>1</td>\n",
       "      <td>0</td>\n",
       "      <td>0</td>\n",
       "      <td>0</td>\n",
       "      <td>0</td>\n",
       "      <td>0</td>\n",
       "      <td>0</td>\n",
       "      <td>0</td>\n",
       "      <td>0</td>\n",
       "    </tr>\n",
       "  </tbody>\n",
       "</table>\n",
       "<p>5 rows × 28 columns</p>\n",
       "</div>"
      ],
      "text/plain": [
       "        Akan peoples  Amhara peoples  Bamana peoples  Bamum kingdom  \\\n",
       "447927             0               1               0              0   \n",
       "194945             0               0               0              0   \n",
       "194946             0               0               0              0   \n",
       "194947             0               0               0              0   \n",
       "194949             0               0               0              0   \n",
       "\n",
       "        Baule peoples  Benin  Chokwe peoples  Dan peoples  Dogon peoples  \\\n",
       "447927              0      0               0            0              0   \n",
       "194945              0      0               0            0              0   \n",
       "194946              0      0               0            0              0   \n",
       "194947              0      0               0            0              0   \n",
       "194949              0      0               0            0              0   \n",
       "\n",
       "        Edo peoples  ...  Mangbetu  Middle Niger civilization  Mossi peoples  \\\n",
       "447927            0  ...         0                          0              0   \n",
       "194945            0  ...         0                          1              0   \n",
       "194946            0  ...         0                          1              0   \n",
       "194947            0  ...         0                          1              0   \n",
       "194949            0  ...         0                          1              0   \n",
       "\n",
       "        Possibly Barwe People  Punu peoples  Sakalava peoples  Senufo peoples  \\\n",
       "447927                      0             0                 0               0   \n",
       "194945                      0             0                 0               0   \n",
       "194946                      0             0                 0               0   \n",
       "194947                      0             0                 0               0   \n",
       "194949                      0             0                 0               0   \n",
       "\n",
       "        Songye peoples  Tigrinya peoples  Yoruba peoples  \n",
       "447927               0                 0               0  \n",
       "194945               0                 0               0  \n",
       "194946               0                 0               0  \n",
       "194947               0                 0               0  \n",
       "194949               0                 0               0  \n",
       "\n",
       "[5 rows x 28 columns]"
      ]
     },
     "execution_count": 557,
     "metadata": {},
     "output_type": "execute_result"
    }
   ],
   "source": [
    "culture_dummy = pd.get_dummies(met_test[\"Culture\"], drop_first=True)\n",
    "culture_dummy.head()"
   ]
  },
  {
   "cell_type": "code",
   "execution_count": 558,
   "metadata": {},
   "outputs": [
    {
     "data": {
      "text/html": [
       "<div>\n",
       "<style scoped>\n",
       "    .dataframe tbody tr th:only-of-type {\n",
       "        vertical-align: middle;\n",
       "    }\n",
       "\n",
       "    .dataframe tbody tr th {\n",
       "        vertical-align: top;\n",
       "    }\n",
       "\n",
       "    .dataframe thead th {\n",
       "        text-align: right;\n",
       "    }\n",
       "</style>\n",
       "<table border=\"1\" class=\"dataframe\">\n",
       "  <thead>\n",
       "    <tr style=\"text-align: right;\">\n",
       "      <th></th>\n",
       "      <th>Is Highlight</th>\n",
       "      <th>Is Public Domain</th>\n",
       "      <th>Is Timeline Work</th>\n",
       "      <th>AccessionYear</th>\n",
       "      <th>Arms and Armor</th>\n",
       "      <th>Arts of Africa, Oceania, and the Americas</th>\n",
       "      <th>Asian Art</th>\n",
       "      <th>Costume Institute</th>\n",
       "      <th>European Sculpture and Decorative Arts</th>\n",
       "      <th>Greek and Roman Art</th>\n",
       "      <th>...</th>\n",
       "      <th>Mangbetu</th>\n",
       "      <th>Middle Niger civilization</th>\n",
       "      <th>Mossi peoples</th>\n",
       "      <th>Possibly Barwe People</th>\n",
       "      <th>Punu peoples</th>\n",
       "      <th>Sakalava peoples</th>\n",
       "      <th>Senufo peoples</th>\n",
       "      <th>Songye peoples</th>\n",
       "      <th>Tigrinya peoples</th>\n",
       "      <th>Yoruba peoples</th>\n",
       "    </tr>\n",
       "  </thead>\n",
       "  <tbody>\n",
       "    <tr>\n",
       "      <th>0</th>\n",
       "      <td>0</td>\n",
       "      <td>0</td>\n",
       "      <td>1</td>\n",
       "      <td>1999</td>\n",
       "      <td>1</td>\n",
       "      <td>0</td>\n",
       "      <td>0</td>\n",
       "      <td>0</td>\n",
       "      <td>0</td>\n",
       "      <td>0</td>\n",
       "      <td>...</td>\n",
       "      <td>0.0</td>\n",
       "      <td>0.0</td>\n",
       "      <td>0.0</td>\n",
       "      <td>0.0</td>\n",
       "      <td>0.0</td>\n",
       "      <td>0.0</td>\n",
       "      <td>0.0</td>\n",
       "      <td>0.0</td>\n",
       "      <td>0.0</td>\n",
       "      <td>0.0</td>\n",
       "    </tr>\n",
       "    <tr>\n",
       "      <th>1</th>\n",
       "      <td>0</td>\n",
       "      <td>0</td>\n",
       "      <td>0</td>\n",
       "      <td>1912</td>\n",
       "      <td>1</td>\n",
       "      <td>0</td>\n",
       "      <td>0</td>\n",
       "      <td>0</td>\n",
       "      <td>0</td>\n",
       "      <td>0</td>\n",
       "      <td>...</td>\n",
       "      <td>0.0</td>\n",
       "      <td>1.0</td>\n",
       "      <td>0.0</td>\n",
       "      <td>0.0</td>\n",
       "      <td>0.0</td>\n",
       "      <td>0.0</td>\n",
       "      <td>0.0</td>\n",
       "      <td>0.0</td>\n",
       "      <td>0.0</td>\n",
       "      <td>0.0</td>\n",
       "    </tr>\n",
       "    <tr>\n",
       "      <th>2</th>\n",
       "      <td>0</td>\n",
       "      <td>0</td>\n",
       "      <td>0</td>\n",
       "      <td>1912</td>\n",
       "      <td>1</td>\n",
       "      <td>0</td>\n",
       "      <td>0</td>\n",
       "      <td>0</td>\n",
       "      <td>0</td>\n",
       "      <td>0</td>\n",
       "      <td>...</td>\n",
       "      <td>0.0</td>\n",
       "      <td>1.0</td>\n",
       "      <td>0.0</td>\n",
       "      <td>0.0</td>\n",
       "      <td>0.0</td>\n",
       "      <td>0.0</td>\n",
       "      <td>0.0</td>\n",
       "      <td>0.0</td>\n",
       "      <td>0.0</td>\n",
       "      <td>0.0</td>\n",
       "    </tr>\n",
       "    <tr>\n",
       "      <th>3</th>\n",
       "      <td>0</td>\n",
       "      <td>0</td>\n",
       "      <td>1</td>\n",
       "      <td>2015</td>\n",
       "      <td>0</td>\n",
       "      <td>0</td>\n",
       "      <td>1</td>\n",
       "      <td>0</td>\n",
       "      <td>0</td>\n",
       "      <td>0</td>\n",
       "      <td>...</td>\n",
       "      <td>0.0</td>\n",
       "      <td>1.0</td>\n",
       "      <td>0.0</td>\n",
       "      <td>0.0</td>\n",
       "      <td>0.0</td>\n",
       "      <td>0.0</td>\n",
       "      <td>0.0</td>\n",
       "      <td>0.0</td>\n",
       "      <td>0.0</td>\n",
       "      <td>0.0</td>\n",
       "    </tr>\n",
       "    <tr>\n",
       "      <th>4</th>\n",
       "      <td>0</td>\n",
       "      <td>0</td>\n",
       "      <td>1</td>\n",
       "      <td>1953</td>\n",
       "      <td>0</td>\n",
       "      <td>0</td>\n",
       "      <td>0</td>\n",
       "      <td>0</td>\n",
       "      <td>0</td>\n",
       "      <td>0</td>\n",
       "      <td>...</td>\n",
       "      <td>0.0</td>\n",
       "      <td>1.0</td>\n",
       "      <td>0.0</td>\n",
       "      <td>0.0</td>\n",
       "      <td>0.0</td>\n",
       "      <td>0.0</td>\n",
       "      <td>0.0</td>\n",
       "      <td>0.0</td>\n",
       "      <td>0.0</td>\n",
       "      <td>0.0</td>\n",
       "    </tr>\n",
       "  </tbody>\n",
       "</table>\n",
       "<p>5 rows × 44 columns</p>\n",
       "</div>"
      ],
      "text/plain": [
       "   Is Highlight  Is Public Domain  Is Timeline Work  AccessionYear  \\\n",
       "0             0                 0                 1           1999   \n",
       "1             0                 0                 0           1912   \n",
       "2             0                 0                 0           1912   \n",
       "3             0                 0                 1           2015   \n",
       "4             0                 0                 1           1953   \n",
       "\n",
       "   Arms and Armor  Arts of Africa, Oceania, and the Americas  Asian Art  \\\n",
       "0               1                                          0          0   \n",
       "1               1                                          0          0   \n",
       "2               1                                          0          0   \n",
       "3               0                                          0          1   \n",
       "4               0                                          0          0   \n",
       "\n",
       "   Costume Institute  European Sculpture and Decorative Arts  \\\n",
       "0                  0                                       0   \n",
       "1                  0                                       0   \n",
       "2                  0                                       0   \n",
       "3                  0                                       0   \n",
       "4                  0                                       0   \n",
       "\n",
       "   Greek and Roman Art  ...  Mangbetu  Middle Niger civilization  \\\n",
       "0                    0  ...       0.0                        0.0   \n",
       "1                    0  ...       0.0                        1.0   \n",
       "2                    0  ...       0.0                        1.0   \n",
       "3                    0  ...       0.0                        1.0   \n",
       "4                    0  ...       0.0                        1.0   \n",
       "\n",
       "   Mossi peoples  Possibly Barwe People  Punu peoples  Sakalava peoples  \\\n",
       "0            0.0                    0.0           0.0               0.0   \n",
       "1            0.0                    0.0           0.0               0.0   \n",
       "2            0.0                    0.0           0.0               0.0   \n",
       "3            0.0                    0.0           0.0               0.0   \n",
       "4            0.0                    0.0           0.0               0.0   \n",
       "\n",
       "   Senufo peoples  Songye peoples  Tigrinya peoples  Yoruba peoples  \n",
       "0             0.0             0.0               0.0             0.0  \n",
       "1             0.0             0.0               0.0             0.0  \n",
       "2             0.0             0.0               0.0             0.0  \n",
       "3             0.0             0.0               0.0             0.0  \n",
       "4             0.0             0.0               0.0             0.0  \n",
       "\n",
       "[5 rows x 44 columns]"
      ]
     },
     "execution_count": 558,
     "metadata": {},
     "output_type": "execute_result"
    }
   ],
   "source": [
    "combined = pd.concat([\n",
    "    met_data.reset_index(drop=True),\n",
    "    department_dummy.reset_index(drop=True),\n",
    "    culture_dummy.reset_index(drop=True)\n",
    "], axis=1)\n",
    "\n",
    "combined = combined.drop(['Department', 'Culture', 'Credit Line'], axis=1)\n",
    "combined = combined.dropna()\n",
    "combined.head()"
   ]
  },
  {
   "cell_type": "code",
   "execution_count": 559,
   "metadata": {},
   "outputs": [],
   "source": [
    "from sklearn.model_selection import train_test_split\n",
    "from sklearn.linear_model import LogisticRegression\n",
    "\n",
    "y = \"Is Timeline Work\"\n",
    "X = combined.drop(columns=y).columns"
   ]
  },
  {
   "cell_type": "code",
   "execution_count": 560,
   "metadata": {},
   "outputs": [
    {
     "name": "stdout",
     "output_type": "stream",
     "text": [
      "X_train:  (774, 43)\n",
      "X_test:  (194, 43)\n",
      "y_train:  (774,)\n",
      "y_test  (194,)\n"
     ]
    }
   ],
   "source": [
    "X_train, X_test, y_train, y_test = train_test_split(combined[X],combined[y],test_size=0.2)\n",
    "print('X_train: ',X_train.shape)\n",
    "print('X_test: ',X_test.shape)\n",
    "print('y_train: ',y_train.shape)\n",
    "print('y_test ',y_test.shape)"
   ]
  },
  {
   "cell_type": "code",
   "execution_count": 561,
   "metadata": {},
   "outputs": [],
   "source": [
    "# some hyperparameter tuning to get best model\n",
    "clf = LogisticRegression()\n",
    "\n",
    "search_parameters_space = {\n",
    "    \"penalty\": [\"l1\", \"l2\"], \n",
    "    \"C\": np.linspace(0.1, 2, 10), \n",
    "    \"fit_intercept\": [True, False], \n",
    "}"
   ]
  },
  {
   "cell_type": "code",
   "execution_count": 562,
   "metadata": {},
   "outputs": [],
   "source": [
    "from sklearn.model_selection import GridSearchCV, RandomizedSearchCV"
   ]
  },
  {
   "cell_type": "code",
   "execution_count": 563,
   "metadata": {},
   "outputs": [
    {
     "data": {
      "text/plain": [
       "GridSearchCV(cv=None, error_score=nan,\n",
       "             estimator=LogisticRegression(C=1.0, class_weight=None, dual=False,\n",
       "                                          fit_intercept=True,\n",
       "                                          intercept_scaling=1, l1_ratio=None,\n",
       "                                          max_iter=100, multi_class='auto',\n",
       "                                          n_jobs=None, penalty='l2',\n",
       "                                          random_state=None, solver='lbfgs',\n",
       "                                          tol=0.0001, verbose=0,\n",
       "                                          warm_start=False),\n",
       "             iid='deprecated', n_jobs=-1,\n",
       "             param_grid={'C': array([0.1       , 0.31111111, 0.52222222, 0.73333333, 0.94444444,\n",
       "       1.15555556, 1.36666667, 1.57777778, 1.78888889, 2.        ]),\n",
       "                         'fit_intercept': [True, False],\n",
       "                         'penalty': ['l1', 'l2']},\n",
       "             pre_dispatch='2*n_jobs', refit=True, return_train_score=False,\n",
       "             scoring='roc_auc', verbose=0)"
      ]
     },
     "execution_count": 563,
     "metadata": {},
     "output_type": "execute_result"
    }
   ],
   "source": [
    "grid = GridSearchCV(estimator=clf, \n",
    "                    param_grid=search_parameters_space,\n",
    "                    scoring=\"roc_auc\",\n",
    "                    n_jobs=-1)\n",
    "grid"
   ]
  },
  {
   "cell_type": "code",
   "execution_count": 564,
   "metadata": {},
   "outputs": [
    {
     "name": "stdout",
     "output_type": "stream",
     "text": [
      "CPU times: user 410 ms, sys: 29.5 ms, total: 439 ms\n",
      "Wall time: 2.66 s\n"
     ]
    },
    {
     "data": {
      "text/plain": [
       "GridSearchCV(cv=None, error_score=nan,\n",
       "             estimator=LogisticRegression(C=1.0, class_weight=None, dual=False,\n",
       "                                          fit_intercept=True,\n",
       "                                          intercept_scaling=1, l1_ratio=None,\n",
       "                                          max_iter=100, multi_class='auto',\n",
       "                                          n_jobs=None, penalty='l2',\n",
       "                                          random_state=None, solver='lbfgs',\n",
       "                                          tol=0.0001, verbose=0,\n",
       "                                          warm_start=False),\n",
       "             iid='deprecated', n_jobs=-1,\n",
       "             param_grid={'C': array([0.1       , 0.31111111, 0.52222222, 0.73333333, 0.94444444,\n",
       "       1.15555556, 1.36666667, 1.57777778, 1.78888889, 2.        ]),\n",
       "                         'fit_intercept': [True, False],\n",
       "                         'penalty': ['l1', 'l2']},\n",
       "             pre_dispatch='2*n_jobs', refit=True, return_train_score=False,\n",
       "             scoring='roc_auc', verbose=0)"
      ]
     },
     "execution_count": 564,
     "metadata": {},
     "output_type": "execute_result"
    }
   ],
   "source": [
    "%%time\n",
    "grid.fit(X_train, y_train)"
   ]
  },
  {
   "cell_type": "code",
   "execution_count": 565,
   "metadata": {},
   "outputs": [
    {
     "name": "stdout",
     "output_type": "stream",
     "text": [
      "0.7868306640241399\n"
     ]
    }
   ],
   "source": [
    "print(grid.best_score_)"
   ]
  },
  {
   "cell_type": "code",
   "execution_count": 566,
   "metadata": {},
   "outputs": [
    {
     "data": {
      "text/plain": [
       "{'C': 1.577777777777778, 'fit_intercept': True, 'penalty': 'l2'}"
      ]
     },
     "execution_count": 566,
     "metadata": {},
     "output_type": "execute_result"
    }
   ],
   "source": [
    "grid.best_params_"
   ]
  },
  {
   "cell_type": "code",
   "execution_count": 567,
   "metadata": {},
   "outputs": [],
   "source": [
    "RESULTS = {}\n",
    "from sklearn.model_selection import cross_validate\n",
    "\n",
    "#this is the same funxtion we defined last week. It runs cross validation on whichever estimator/model family we specify\n",
    "def evaluate_model(estimator, X, y):  #define the function evaluate_model with input arguments of (estimator, X, y)\n",
    "    cv_results = cross_validate(estimator, X, y,  \n",
    "                     scoring=\"roc_auc\",\n",
    "                          n_jobs=-1, cv=3,\n",
    "                     return_train_score=True)\n",
    "    return pd.DataFrame(cv_results).mean().to_dict()"
   ]
  },
  {
   "cell_type": "code",
   "execution_count": 568,
   "metadata": {},
   "outputs": [],
   "source": [
    "RESULTS[\"logistic_gridsearch\"] = evaluate_model(grid.best_estimator_,\n",
    "                                             X_test, y_test)"
   ]
  },
  {
   "cell_type": "code",
   "execution_count": 569,
   "metadata": {},
   "outputs": [
    {
     "data": {
      "text/plain": [
       "{'logistic_gridsearch': {'fit_time': 0.037535667419433594,\n",
       "  'score_time': 0.004465341567993164,\n",
       "  'test_score': 0.754453514739229,\n",
       "  'train_score': 0.8694169472502806}}"
      ]
     },
     "execution_count": 569,
     "metadata": {},
     "output_type": "execute_result"
    }
   ],
   "source": [
    "RESULTS"
   ]
  },
  {
   "cell_type": "code",
   "execution_count": 570,
   "metadata": {},
   "outputs": [],
   "source": [
    "# tuning using randomized search\n",
    "from scipy.stats import randint as sp_randint\n",
    "from scipy.stats import uniform \n",
    "\n",
    "param_dist_random = {\n",
    "    \"penalty\": [\"l1\", \"l2\"],\n",
    "    \"C\": uniform(loc=0.1, scale=2),\n",
    "    \"fit_intercept\": [True, False],\n",
    "    \"class_weight\":[\"balanced\", None],\n",
    "}"
   ]
  },
  {
   "cell_type": "code",
   "execution_count": 571,
   "metadata": {},
   "outputs": [],
   "source": [
    "random_search = RandomizedSearchCV(\n",
    "    estimator=clf, \n",
    "    param_distributions=param_dist_random,\n",
    "   scoring=\"roc_auc\", n_jobs=-1, \n",
    "    n_iter=50)"
   ]
  },
  {
   "cell_type": "code",
   "execution_count": 572,
   "metadata": {},
   "outputs": [
    {
     "name": "stdout",
     "output_type": "stream",
     "text": [
      "CPU times: user 710 ms, sys: 33 ms, total: 743 ms\n",
      "Wall time: 3.35 s\n"
     ]
    },
    {
     "data": {
      "text/plain": [
       "RandomizedSearchCV(cv=None, error_score=nan,\n",
       "                   estimator=LogisticRegression(C=1.0, class_weight=None,\n",
       "                                                dual=False, fit_intercept=True,\n",
       "                                                intercept_scaling=1,\n",
       "                                                l1_ratio=None, max_iter=100,\n",
       "                                                multi_class='auto', n_jobs=None,\n",
       "                                                penalty='l2', random_state=None,\n",
       "                                                solver='lbfgs', tol=0.0001,\n",
       "                                                verbose=0, warm_start=False),\n",
       "                   iid='deprecated', n_iter=50, n_jobs=-1,\n",
       "                   param_distributions={'C': <scipy.stats._distn_infrastructure.rv_frozen object at 0x1b0bc55790>,\n",
       "                                        'class_weight': ['balanced', None],\n",
       "                                        'fit_intercept': [True, False],\n",
       "                                        'penalty': ['l1', 'l2']},\n",
       "                   pre_dispatch='2*n_jobs', random_state=None, refit=True,\n",
       "                   return_train_score=False, scoring='roc_auc', verbose=0)"
      ]
     },
     "execution_count": 572,
     "metadata": {},
     "output_type": "execute_result"
    }
   ],
   "source": [
    "%%time\n",
    "random_search.fit(X_train, y_train)"
   ]
  },
  {
   "cell_type": "code",
   "execution_count": 573,
   "metadata": {},
   "outputs": [
    {
     "data": {
      "text/plain": [
       "0.7891580516721124"
      ]
     },
     "execution_count": 573,
     "metadata": {},
     "output_type": "execute_result"
    }
   ],
   "source": [
    "random_search.best_score_"
   ]
  },
  {
   "cell_type": "code",
   "execution_count": 574,
   "metadata": {},
   "outputs": [],
   "source": [
    "RESULTS[\"logistic_randomizedsearch\"] = evaluate_model(\n",
    "    random_search.best_estimator_,\n",
    "    X_test, y_test\n",
    ")"
   ]
  },
  {
   "cell_type": "code",
   "execution_count": 575,
   "metadata": {},
   "outputs": [
    {
     "data": {
      "text/html": [
       "<div>\n",
       "<style scoped>\n",
       "    .dataframe tbody tr th:only-of-type {\n",
       "        vertical-align: middle;\n",
       "    }\n",
       "\n",
       "    .dataframe tbody tr th {\n",
       "        vertical-align: top;\n",
       "    }\n",
       "\n",
       "    .dataframe thead th {\n",
       "        text-align: right;\n",
       "    }\n",
       "</style>\n",
       "<table border=\"1\" class=\"dataframe\">\n",
       "  <thead>\n",
       "    <tr style=\"text-align: right;\">\n",
       "      <th></th>\n",
       "      <th>fit_time</th>\n",
       "      <th>score_time</th>\n",
       "      <th>test_score</th>\n",
       "      <th>train_score</th>\n",
       "    </tr>\n",
       "  </thead>\n",
       "  <tbody>\n",
       "    <tr>\n",
       "      <th>logistic_gridsearch</th>\n",
       "      <td>0.037536</td>\n",
       "      <td>0.004465</td>\n",
       "      <td>0.754454</td>\n",
       "      <td>0.869417</td>\n",
       "    </tr>\n",
       "    <tr>\n",
       "      <th>logistic_randomizedsearch</th>\n",
       "      <td>0.035117</td>\n",
       "      <td>0.015252</td>\n",
       "      <td>0.765601</td>\n",
       "      <td>0.856774</td>\n",
       "    </tr>\n",
       "  </tbody>\n",
       "</table>\n",
       "</div>"
      ],
      "text/plain": [
       "                           fit_time  score_time  test_score  train_score\n",
       "logistic_gridsearch        0.037536    0.004465    0.754454     0.869417\n",
       "logistic_randomizedsearch  0.035117    0.015252    0.765601     0.856774"
      ]
     },
     "execution_count": 575,
     "metadata": {},
     "output_type": "execute_result"
    }
   ],
   "source": [
    "pd.DataFrame.from_dict(RESULTS).T"
   ]
  },
  {
   "cell_type": "markdown",
   "metadata": {},
   "source": [
    ">Thus we can see that randomized search performs a little better than grid search"
   ]
  },
  {
   "cell_type": "code",
   "execution_count": 576,
   "metadata": {},
   "outputs": [],
   "source": [
    "# some other measurements\n",
    "clf.fit(X_train, y_train)\n",
    "predictions = clf.predict(X_test)"
   ]
  },
  {
   "cell_type": "code",
   "execution_count": 577,
   "metadata": {},
   "outputs": [
    {
     "data": {
      "text/plain": [
       "array([[0.10562939, 0.89437061],\n",
       "       [0.04727424, 0.95272576],\n",
       "       [0.0345316 , 0.9654684 ],\n",
       "       [0.16526553, 0.83473447],\n",
       "       [0.11997895, 0.88002105],\n",
       "       [0.20339041, 0.79660959],\n",
       "       [0.51804602, 0.48195398],\n",
       "       [0.03875335, 0.96124665],\n",
       "       [0.15076291, 0.84923709],\n",
       "       [0.04632094, 0.95367906]])"
      ]
     },
     "execution_count": 577,
     "metadata": {},
     "output_type": "execute_result"
    }
   ],
   "source": [
    "predictions_probabilities = clf.predict_proba(X_test)\n",
    "predictions_probabilities[:10]"
   ]
  },
  {
   "cell_type": "code",
   "execution_count": 578,
   "metadata": {},
   "outputs": [
    {
     "data": {
      "text/html": [
       "<div>\n",
       "<style scoped>\n",
       "    .dataframe tbody tr th:only-of-type {\n",
       "        vertical-align: middle;\n",
       "    }\n",
       "\n",
       "    .dataframe tbody tr th {\n",
       "        vertical-align: top;\n",
       "    }\n",
       "\n",
       "    .dataframe thead th {\n",
       "        text-align: right;\n",
       "    }\n",
       "</style>\n",
       "<table border=\"1\" class=\"dataframe\">\n",
       "  <thead>\n",
       "    <tr style=\"text-align: right;\">\n",
       "      <th></th>\n",
       "      <th>0</th>\n",
       "      <th>1</th>\n",
       "    </tr>\n",
       "  </thead>\n",
       "  <tbody>\n",
       "    <tr>\n",
       "      <th>0</th>\n",
       "      <td>0.11</td>\n",
       "      <td>0.89</td>\n",
       "    </tr>\n",
       "    <tr>\n",
       "      <th>1</th>\n",
       "      <td>0.05</td>\n",
       "      <td>0.95</td>\n",
       "    </tr>\n",
       "    <tr>\n",
       "      <th>2</th>\n",
       "      <td>0.03</td>\n",
       "      <td>0.97</td>\n",
       "    </tr>\n",
       "    <tr>\n",
       "      <th>3</th>\n",
       "      <td>0.17</td>\n",
       "      <td>0.83</td>\n",
       "    </tr>\n",
       "    <tr>\n",
       "      <th>4</th>\n",
       "      <td>0.12</td>\n",
       "      <td>0.88</td>\n",
       "    </tr>\n",
       "  </tbody>\n",
       "</table>\n",
       "</div>"
      ],
      "text/plain": [
       "      0     1\n",
       "0  0.11  0.89\n",
       "1  0.05  0.95\n",
       "2  0.03  0.97\n",
       "3  0.17  0.83\n",
       "4  0.12  0.88"
      ]
     },
     "execution_count": 578,
     "metadata": {},
     "output_type": "execute_result"
    }
   ],
   "source": [
    "probs_df = pd.DataFrame(predictions_probabilities)\n",
    "probs_df = round(probs_df, 2)\n",
    "probs_df.head()"
   ]
  },
  {
   "cell_type": "code",
   "execution_count": 579,
   "metadata": {},
   "outputs": [
    {
     "data": {
      "text/html": [
       "<div>\n",
       "<style scoped>\n",
       "    .dataframe tbody tr th:only-of-type {\n",
       "        vertical-align: middle;\n",
       "    }\n",
       "\n",
       "    .dataframe tbody tr th {\n",
       "        vertical-align: top;\n",
       "    }\n",
       "\n",
       "    .dataframe thead th {\n",
       "        text-align: right;\n",
       "    }\n",
       "</style>\n",
       "<table border=\"1\" class=\"dataframe\">\n",
       "  <thead>\n",
       "    <tr style=\"text-align: right;\">\n",
       "      <th></th>\n",
       "      <th>target</th>\n",
       "      <th>prediction</th>\n",
       "      <th>0</th>\n",
       "      <th>1</th>\n",
       "    </tr>\n",
       "  </thead>\n",
       "  <tbody>\n",
       "    <tr>\n",
       "      <th>0</th>\n",
       "      <td>1</td>\n",
       "      <td>1</td>\n",
       "      <td>0.11</td>\n",
       "      <td>0.89</td>\n",
       "    </tr>\n",
       "    <tr>\n",
       "      <th>1</th>\n",
       "      <td>1</td>\n",
       "      <td>1</td>\n",
       "      <td>0.05</td>\n",
       "      <td>0.95</td>\n",
       "    </tr>\n",
       "    <tr>\n",
       "      <th>2</th>\n",
       "      <td>1</td>\n",
       "      <td>1</td>\n",
       "      <td>0.03</td>\n",
       "      <td>0.97</td>\n",
       "    </tr>\n",
       "    <tr>\n",
       "      <th>3</th>\n",
       "      <td>0</td>\n",
       "      <td>1</td>\n",
       "      <td>0.17</td>\n",
       "      <td>0.83</td>\n",
       "    </tr>\n",
       "    <tr>\n",
       "      <th>4</th>\n",
       "      <td>1</td>\n",
       "      <td>1</td>\n",
       "      <td>0.12</td>\n",
       "      <td>0.88</td>\n",
       "    </tr>\n",
       "    <tr>\n",
       "      <th>5</th>\n",
       "      <td>1</td>\n",
       "      <td>1</td>\n",
       "      <td>0.20</td>\n",
       "      <td>0.80</td>\n",
       "    </tr>\n",
       "    <tr>\n",
       "      <th>6</th>\n",
       "      <td>1</td>\n",
       "      <td>0</td>\n",
       "      <td>0.52</td>\n",
       "      <td>0.48</td>\n",
       "    </tr>\n",
       "    <tr>\n",
       "      <th>7</th>\n",
       "      <td>1</td>\n",
       "      <td>1</td>\n",
       "      <td>0.04</td>\n",
       "      <td>0.96</td>\n",
       "    </tr>\n",
       "    <tr>\n",
       "      <th>8</th>\n",
       "      <td>1</td>\n",
       "      <td>1</td>\n",
       "      <td>0.15</td>\n",
       "      <td>0.85</td>\n",
       "    </tr>\n",
       "    <tr>\n",
       "      <th>9</th>\n",
       "      <td>1</td>\n",
       "      <td>1</td>\n",
       "      <td>0.05</td>\n",
       "      <td>0.95</td>\n",
       "    </tr>\n",
       "    <tr>\n",
       "      <th>10</th>\n",
       "      <td>0</td>\n",
       "      <td>0</td>\n",
       "      <td>0.51</td>\n",
       "      <td>0.49</td>\n",
       "    </tr>\n",
       "    <tr>\n",
       "      <th>11</th>\n",
       "      <td>1</td>\n",
       "      <td>1</td>\n",
       "      <td>0.13</td>\n",
       "      <td>0.87</td>\n",
       "    </tr>\n",
       "    <tr>\n",
       "      <th>12</th>\n",
       "      <td>0</td>\n",
       "      <td>0</td>\n",
       "      <td>0.51</td>\n",
       "      <td>0.49</td>\n",
       "    </tr>\n",
       "    <tr>\n",
       "      <th>13</th>\n",
       "      <td>1</td>\n",
       "      <td>1</td>\n",
       "      <td>0.03</td>\n",
       "      <td>0.97</td>\n",
       "    </tr>\n",
       "    <tr>\n",
       "      <th>14</th>\n",
       "      <td>0</td>\n",
       "      <td>0</td>\n",
       "      <td>0.51</td>\n",
       "      <td>0.49</td>\n",
       "    </tr>\n",
       "    <tr>\n",
       "      <th>15</th>\n",
       "      <td>1</td>\n",
       "      <td>1</td>\n",
       "      <td>0.04</td>\n",
       "      <td>0.96</td>\n",
       "    </tr>\n",
       "    <tr>\n",
       "      <th>16</th>\n",
       "      <td>1</td>\n",
       "      <td>1</td>\n",
       "      <td>0.11</td>\n",
       "      <td>0.89</td>\n",
       "    </tr>\n",
       "    <tr>\n",
       "      <th>17</th>\n",
       "      <td>1</td>\n",
       "      <td>1</td>\n",
       "      <td>0.04</td>\n",
       "      <td>0.96</td>\n",
       "    </tr>\n",
       "    <tr>\n",
       "      <th>18</th>\n",
       "      <td>1</td>\n",
       "      <td>1</td>\n",
       "      <td>0.17</td>\n",
       "      <td>0.83</td>\n",
       "    </tr>\n",
       "    <tr>\n",
       "      <th>19</th>\n",
       "      <td>1</td>\n",
       "      <td>1</td>\n",
       "      <td>0.04</td>\n",
       "      <td>0.96</td>\n",
       "    </tr>\n",
       "  </tbody>\n",
       "</table>\n",
       "</div>"
      ],
      "text/plain": [
       "    target  prediction     0     1\n",
       "0        1           1  0.11  0.89\n",
       "1        1           1  0.05  0.95\n",
       "2        1           1  0.03  0.97\n",
       "3        0           1  0.17  0.83\n",
       "4        1           1  0.12  0.88\n",
       "5        1           1  0.20  0.80\n",
       "6        1           0  0.52  0.48\n",
       "7        1           1  0.04  0.96\n",
       "8        1           1  0.15  0.85\n",
       "9        1           1  0.05  0.95\n",
       "10       0           0  0.51  0.49\n",
       "11       1           1  0.13  0.87\n",
       "12       0           0  0.51  0.49\n",
       "13       1           1  0.03  0.97\n",
       "14       0           0  0.51  0.49\n",
       "15       1           1  0.04  0.96\n",
       "16       1           1  0.11  0.89\n",
       "17       1           1  0.04  0.96\n",
       "18       1           1  0.17  0.83\n",
       "19       1           1  0.04  0.96"
      ]
     },
     "execution_count": 579,
     "metadata": {},
     "output_type": "execute_result"
    }
   ],
   "source": [
    "X = X_test.reset_index().copy()\n",
    "X[\"target\"] = y_test.tolist()\n",
    "X[\"prediction\"] = predictions\n",
    "X = pd.concat([X, probs_df], axis=1)\n",
    "X[[\"target\", \"prediction\", 0, 1]].head(20)"
   ]
  },
  {
   "cell_type": "code",
   "execution_count": 580,
   "metadata": {},
   "outputs": [],
   "source": [
    "true_classes = y_test"
   ]
  },
  {
   "cell_type": "code",
   "execution_count": 581,
   "metadata": {},
   "outputs": [
    {
     "data": {
      "text/plain": [
       "array([[ 21,  24],\n",
       "       [  8, 141]])"
      ]
     },
     "execution_count": 581,
     "metadata": {},
     "output_type": "execute_result"
    }
   ],
   "source": [
    "from sklearn.metrics import confusion_matrix\n",
    "confusion_matrix(true_classes, predictions)"
   ]
  },
  {
   "cell_type": "code",
   "execution_count": 582,
   "metadata": {},
   "outputs": [
    {
     "data": {
      "text/plain": [
       "0.8350515463917526"
      ]
     },
     "execution_count": 582,
     "metadata": {},
     "output_type": "execute_result"
    }
   ],
   "source": [
    "# Accuracy\n",
    "from sklearn import metrics\n",
    "metrics.accuracy_score(true_classes, predictions)"
   ]
  },
  {
   "cell_type": "code",
   "execution_count": 583,
   "metadata": {},
   "outputs": [
    {
     "data": {
      "text/plain": [
       "0.8545454545454545"
      ]
     },
     "execution_count": 583,
     "metadata": {},
     "output_type": "execute_result"
    }
   ],
   "source": [
    "# Precision\n",
    "metrics.precision_score(true_classes, predictions)"
   ]
  },
  {
   "cell_type": "code",
   "execution_count": 584,
   "metadata": {},
   "outputs": [
    {
     "data": {
      "text/plain": [
       "0.9463087248322147"
      ]
     },
     "execution_count": 584,
     "metadata": {},
     "output_type": "execute_result"
    }
   ],
   "source": [
    "# Recall\n",
    "metrics.recall_score(true_classes, predictions)"
   ]
  },
  {
   "cell_type": "code",
   "execution_count": 585,
   "metadata": {},
   "outputs": [
    {
     "data": {
      "text/plain": [
       "0.8980891719745222"
      ]
     },
     "execution_count": 585,
     "metadata": {},
     "output_type": "execute_result"
    }
   ],
   "source": [
    "# F1 score\n",
    "metrics.f1_score(true_classes, predictions)"
   ]
  },
  {
   "cell_type": "code",
   "execution_count": null,
   "metadata": {},
   "outputs": [],
   "source": []
  },
  {
   "cell_type": "code",
   "execution_count": null,
   "metadata": {},
   "outputs": [],
   "source": []
  },
  {
   "cell_type": "code",
   "execution_count": null,
   "metadata": {},
   "outputs": [],
   "source": []
  }
 ],
 "metadata": {
  "kernelspec": {
   "display_name": "Python 3",
   "language": "python",
   "name": "python3"
  },
  "language_info": {
   "codemirror_mode": {
    "name": "ipython",
    "version": 3
   },
   "file_extension": ".py",
   "mimetype": "text/x-python",
   "name": "python",
   "nbconvert_exporter": "python",
   "pygments_lexer": "ipython3",
   "version": "3.7.6"
  }
 },
 "nbformat": 4,
 "nbformat_minor": 4
}
